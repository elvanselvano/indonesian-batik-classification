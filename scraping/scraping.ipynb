{
  "nbformat": 4,
  "nbformat_minor": 0,
  "metadata": {
    "colab": {
      "name": "scraping.ipynb",
      "provenance": [],
      "collapsed_sections": []
    },
    "kernelspec": {
      "name": "python3",
      "display_name": "Python 3"
    },
    "language_info": {
      "name": "python"
    }
  },
  "cells": [
    {
      "cell_type": "code",
      "metadata": {
        "id": "rGuMIFHVEqkk"
      },
      "source": [
        "import requests\n",
        "from bs4 import BeautifulSoup\n",
        "import os\n",
        "import shutil\n",
        "from google.colab import drive"
      ],
      "execution_count": null,
      "outputs": []
    },
    {
      "cell_type": "code",
      "metadata": {
        "colab": {
          "base_uri": "https://localhost:8080/"
        },
        "id": "lxeH4HI9xhck",
        "outputId": "23941554-1fe2-4c3c-c197-35f09686831d"
      },
      "source": [
        "drive.mount('/content/gdrive')"
      ],
      "execution_count": null,
      "outputs": [
        {
          "output_type": "stream",
          "name": "stdout",
          "text": [
            "Mounted at /content/gdrive\n"
          ]
        }
      ]
    },
    {
      "cell_type": "code",
      "metadata": {
        "id": "ON5YwNDRfzaJ"
      },
      "source": [
        "try:\n",
        "  shutil.rmtree('motives')\n",
        "  os.makedirs('motives')\n",
        "except:\n",
        "  os.makedirs('motives')\n",
        "motives_count = 0"
      ],
      "execution_count": null,
      "outputs": []
    },
    {
      "cell_type": "code",
      "metadata": {
        "id": "7hRvUlVhpZkz"
      },
      "source": [
        "try:\n",
        "  shutil.rmtree('batik_clothes')\n",
        "  os.makedirs('batik_clothes')\n",
        "except:\n",
        "  os.makedirs('batik_clothes')\n",
        "batik_count = 0"
      ],
      "execution_count": null,
      "outputs": []
    },
    {
      "cell_type": "code",
      "metadata": {
        "id": "JXXGRLlPs0dR"
      },
      "source": [
        "def getScrapHtml(url):\n",
        "  html = requests.get(url)\n",
        "  html = BeautifulSoup(html.content)\n",
        "  return html"
      ],
      "execution_count": null,
      "outputs": []
    },
    {
      "cell_type": "code",
      "metadata": {
        "id": "Uq4M6diTe_ru"
      },
      "source": [
        "url = 'https://www.pelitabanten.com/36968/2018/12/14/70-motif-batik-pandeglang/'\n",
        "motives = getScrapHtml(url)"
      ],
      "execution_count": null,
      "outputs": []
    },
    {
      "cell_type": "code",
      "metadata": {
        "id": "a4DfIklTf-2b"
      },
      "source": [
        "def getAllImgLink(html, attr = 'src'):\n",
        "  return [i.get(attr) for i in html.find_all('img')]"
      ],
      "execution_count": null,
      "outputs": []
    },
    {
      "cell_type": "code",
      "metadata": {
        "colab": {
          "base_uri": "https://localhost:8080/"
        },
        "id": "F1Fm9k9UfMrE",
        "outputId": "5dfc9370-b3f3-49b9-a78d-6179a169705e"
      },
      "source": [
        "batik_motives = motives.find_all('figure')\n",
        "batik_motives"
      ],
      "execution_count": null,
      "outputs": [
        {
          "output_type": "execute_result",
          "data": {
            "text/plain": [
              "[<figure><img alt=\"70 Motif Batik Pandeglang Yang Belum Banyak Di Ketahui Orang\" class=\"entry-thumb\" ezimgfmt=\"rs rscb188 src ng ngcb188 srcset\" height=\"640\" loading=\"eager\" sizes=\"\" src=\"https://www.pelitabanten.com/wp-content/uploads/2018/12/70-Motif-Batik-Pandeglang-Yang-Belum-Banyak-Di-Ketahui-Orang-640x640.jpg?ezimgfmt=rs%3Adevice%2Frscb188-1\" srcset=\"\" title=\"70 Motif Batik Pandeglang Yang Belum Banyak Di Ketahui Orang\" width=\"640\"/><figcaption class=\"wp-caption-text\">Motif Batik Badak Sacula. Foto: facebook.com/boim.tiga</figcaption></figure>,\n",
              " <figure aria-describedby=\"caption-attachment-36970\" class=\"wp-caption aligncenter\" id=\"attachment_36970\" style=\"width:625px\"><img alt=\"70 Motif Batik Pandeglang Yang Belum Banyak Di Ketahui Orang\" class=\"ezlazyload wp-image-36970 size-full\" data-ezsrc=\"https://www.pelitabanten.com/wp-content/uploads/2018/12/70-Motif-Batik-Pandeglang-Yang-Belum-Banyak-Di-Ketahui-Orang-1.jpg\" data-ezsrcset=\"https://www.pelitabanten.com/wp-content/uploads/2018/12/70-Motif-Batik-Pandeglang-Yang-Belum-Banyak-Di-Ketahui-Orang-1.jpg 625w,https://www.pelitabanten.com/wp-content/uploads/2018/12/70-Motif-Batik-Pandeglang-Yang-Belum-Banyak-Di-Ketahui-Orang-1-300x300.jpg 300w,https://www.pelitabanten.com/wp-content/uploads/2018/12/70-Motif-Batik-Pandeglang-Yang-Belum-Banyak-Di-Ketahui-Orang-1-150x150.jpg 150w,https://www.pelitabanten.com/wp-content/uploads/2018/12/70-Motif-Batik-Pandeglang-Yang-Belum-Banyak-Di-Ketahui-Orang-1-420x420.jpg 420w\" ezimgfmt=\"rs rscb188 src ng ngcb188 srcset\" height=\"625\" loading=\"lazy\" sizes=\"(max-width: 625px) 100vw, 625px\" src=\"data:image/svg+xml,%3Csvg xmlns=%22http://www.w3.org/2000/svg%22 width=%22625%22 height=%22625%22%3E%3C/svg%3E\" width=\"625\"/><figcaption class=\"wp-caption-text\" id=\"caption-attachment-36970\">Motif Batik Pandeglang Berkah. Foto: facebook.com/boim.tiga</figcaption></figure>,\n",
              " <figure aria-describedby=\"caption-attachment-36971\" class=\"wp-caption aligncenter\" id=\"attachment_36971\" style=\"width:610px\"><img alt=\"70 Motif Batik Pandeglang Yang Belum Banyak Di Ketahui Orang\" class=\"ezlazyload wp-image-36971 size-full\" data-ezsrc=\"https://www.pelitabanten.com/wp-content/uploads/2018/12/70-Motif-Batik-Pandeglang-Yang-Belum-Banyak-Di-Ketahui-Orang-2.jpg\" data-ezsrcset=\"https://www.pelitabanten.com/wp-content/uploads/2018/12/70-Motif-Batik-Pandeglang-Yang-Belum-Banyak-Di-Ketahui-Orang-2.jpg 610w,https://www.pelitabanten.com/wp-content/uploads/2018/12/70-Motif-Batik-Pandeglang-Yang-Belum-Banyak-Di-Ketahui-Orang-2-300x300.jpg 300w,https://www.pelitabanten.com/wp-content/uploads/2018/12/70-Motif-Batik-Pandeglang-Yang-Belum-Banyak-Di-Ketahui-Orang-2-150x150.jpg 150w,https://www.pelitabanten.com/wp-content/uploads/2018/12/70-Motif-Batik-Pandeglang-Yang-Belum-Banyak-Di-Ketahui-Orang-2-420x420.jpg 420w\" ezimgfmt=\"rs rscb188 src ng ngcb188 srcset\" height=\"610\" loading=\"lazy\" sizes=\"(max-width: 610px) 100vw, 610px\" src=\"data:image/svg+xml,%3Csvg xmlns=%22http://www.w3.org/2000/svg%22 width=%22610%22 height=%22610%22%3E%3C/svg%3E\" width=\"610\"/><figcaption class=\"wp-caption-text\" id=\"caption-attachment-36971\">Motif Batik Pandeglang Berkah. Foto: facebook.com/boim.tiga</figcaption></figure>,\n",
              " <figure aria-describedby=\"caption-attachment-36974\" class=\"wp-caption aligncenter\" id=\"attachment_36974\" style=\"width:591px\"><img alt=\"70 Motif Batik Pandeglang Yang Belum Banyak Di Ketahui Orang\" class=\"ezlazyload wp-image-36974 size-full\" data-ezsrc=\"https://www.pelitabanten.com/wp-content/uploads/2018/12/70-Motif-Batik-Pandeglang-Yang-Belum-Banyak-Di-Ketahui-Orang-3.jpg\" data-ezsrcset=\"https://www.pelitabanten.com/wp-content/uploads/2018/12/70-Motif-Batik-Pandeglang-Yang-Belum-Banyak-Di-Ketahui-Orang-3.jpg 591w,https://www.pelitabanten.com/wp-content/uploads/2018/12/70-Motif-Batik-Pandeglang-Yang-Belum-Banyak-Di-Ketahui-Orang-3-300x300.jpg 300w,https://www.pelitabanten.com/wp-content/uploads/2018/12/70-Motif-Batik-Pandeglang-Yang-Belum-Banyak-Di-Ketahui-Orang-3-150x150.jpg 150w,https://www.pelitabanten.com/wp-content/uploads/2018/12/70-Motif-Batik-Pandeglang-Yang-Belum-Banyak-Di-Ketahui-Orang-3-420x420.jpg 420w\" ezimgfmt=\"rs rscb188 src ng ngcb188 srcset\" height=\"591\" loading=\"lazy\" sizes=\"(max-width: 591px) 100vw, 591px\" src=\"data:image/svg+xml,%3Csvg xmlns=%22http://www.w3.org/2000/svg%22 width=%22591%22 height=%22591%22%3E%3C/svg%3E\" width=\"591\"/><figcaption class=\"wp-caption-text\" id=\"caption-attachment-36974\">Motif Batik Pandeglang Tawadhu. Foto: facebook.com/boim.tiga</figcaption></figure>,\n",
              " <figure aria-describedby=\"caption-attachment-36975\" class=\"wp-caption aligncenter\" id=\"attachment_36975\" style=\"width:563px\"><img alt=\"70 Motif Batik Pandeglang Yang Belum Banyak Di Ketahui Orang\" class=\"ezlazyload wp-image-36975 size-full\" data-ezsrc=\"https://www.pelitabanten.com/wp-content/uploads/2018/12/70-Motif-Batik-Pandeglang-Yang-Belum-Banyak-Di-Ketahui-Orang-4.jpg\" data-ezsrcset=\"https://www.pelitabanten.com/wp-content/uploads/2018/12/70-Motif-Batik-Pandeglang-Yang-Belum-Banyak-Di-Ketahui-Orang-4.jpg 563w,https://www.pelitabanten.com/wp-content/uploads/2018/12/70-Motif-Batik-Pandeglang-Yang-Belum-Banyak-Di-Ketahui-Orang-4-300x300.jpg 300w,https://www.pelitabanten.com/wp-content/uploads/2018/12/70-Motif-Batik-Pandeglang-Yang-Belum-Banyak-Di-Ketahui-Orang-4-150x150.jpg 150w,https://www.pelitabanten.com/wp-content/uploads/2018/12/70-Motif-Batik-Pandeglang-Yang-Belum-Banyak-Di-Ketahui-Orang-4-420x420.jpg 420w\" ezimgfmt=\"rs rscb188 src ng ngcb188 srcset\" height=\"563\" loading=\"lazy\" sizes=\"(max-width: 563px) 100vw, 563px\" src=\"data:image/svg+xml,%3Csvg xmlns=%22http://www.w3.org/2000/svg%22 width=%22563%22 height=%22563%22%3E%3C/svg%3E\" width=\"563\"/><figcaption class=\"wp-caption-text\" id=\"caption-attachment-36975\">Motif Batik Jojorong Sapasung. Foto: facebook.com/boim.tiga</figcaption></figure>,\n",
              " <figure aria-describedby=\"caption-attachment-36980\" class=\"wp-caption aligncenter\" id=\"attachment_36980\" style=\"width:724px\"><img alt=\"70 Motif Batik Pandeglang Yang Belum Banyak Di Ketahui Orang\" class=\"ezlazyload wp-image-36980 size-full\" data-ezsrc=\"https://www.pelitabanten.com/wp-content/uploads/2018/12/70-Motif-Batik-Pandeglang-Yang-Belum-Banyak-Di-Ketahui-Orang-5.jpg\" data-ezsrcset=\"https://www.pelitabanten.com/wp-content/uploads/2018/12/70-Motif-Batik-Pandeglang-Yang-Belum-Banyak-Di-Ketahui-Orang-5.jpg 724w,https://www.pelitabanten.com/wp-content/uploads/2018/12/70-Motif-Batik-Pandeglang-Yang-Belum-Banyak-Di-Ketahui-Orang-5-300x300.jpg 300w,https://www.pelitabanten.com/wp-content/uploads/2018/12/70-Motif-Batik-Pandeglang-Yang-Belum-Banyak-Di-Ketahui-Orang-5-150x150.jpg 150w,https://www.pelitabanten.com/wp-content/uploads/2018/12/70-Motif-Batik-Pandeglang-Yang-Belum-Banyak-Di-Ketahui-Orang-5-420x420.jpg 420w,https://www.pelitabanten.com/wp-content/uploads/2018/12/70-Motif-Batik-Pandeglang-Yang-Belum-Banyak-Di-Ketahui-Orang-5-640x640.jpg 640w\" ezimgfmt=\"rs rscb188 src ng ngcb188 srcset\" height=\"724\" loading=\"lazy\" sizes=\"(max-width: 724px) 100vw, 724px\" src=\"data:image/svg+xml,%3Csvg xmlns=%22http://www.w3.org/2000/svg%22 width=%22724%22 height=%22724%22%3E%3C/svg%3E\" width=\"724\"/><figcaption class=\"wp-caption-text\" id=\"caption-attachment-36980\">Motif Batik Kaceprek Sapalengpeng. Foto: facebook.com/boim.tiga</figcaption></figure>,\n",
              " <figure aria-describedby=\"caption-attachment-36981\" class=\"wp-caption aligncenter\" id=\"attachment_36981\" style=\"width:742px\"><img alt=\"70 Motif Batik Pandeglang Yang Belum Banyak Di Ketahui Orang\" class=\"ezlazyload wp-image-36981 size-full\" data-ezsrc=\"https://www.pelitabanten.com/wp-content/uploads/2018/12/70-Motif-Batik-Pandeglang-Yang-Belum-Banyak-Di-Ketahui-Orang-6.jpg\" data-ezsrcset=\"https://www.pelitabanten.com/wp-content/uploads/2018/12/70-Motif-Batik-Pandeglang-Yang-Belum-Banyak-Di-Ketahui-Orang-6.jpg 742w,https://www.pelitabanten.com/wp-content/uploads/2018/12/70-Motif-Batik-Pandeglang-Yang-Belum-Banyak-Di-Ketahui-Orang-6-300x300.jpg 300w,https://www.pelitabanten.com/wp-content/uploads/2018/12/70-Motif-Batik-Pandeglang-Yang-Belum-Banyak-Di-Ketahui-Orang-6-150x150.jpg 150w,https://www.pelitabanten.com/wp-content/uploads/2018/12/70-Motif-Batik-Pandeglang-Yang-Belum-Banyak-Di-Ketahui-Orang-6-420x420.jpg 420w,https://www.pelitabanten.com/wp-content/uploads/2018/12/70-Motif-Batik-Pandeglang-Yang-Belum-Banyak-Di-Ketahui-Orang-6-640x640.jpg 640w\" ezimgfmt=\"rs rscb188 src ng ngcb188 srcset\" height=\"742\" loading=\"lazy\" sizes=\"(max-width: 742px) 100vw, 742px\" src=\"data:image/svg+xml,%3Csvg xmlns=%22http://www.w3.org/2000/svg%22 width=%22742%22 height=%22742%22%3E%3C/svg%3E\" width=\"742\"/><figcaption class=\"wp-caption-text\" id=\"caption-attachment-36981\">Motif Batik Kadu Sakangkot. Foto: facebook.com/boim.tiga</figcaption></figure>,\n",
              " <figure aria-describedby=\"caption-attachment-36982\" class=\"wp-caption aligncenter\" id=\"attachment_36982\" style=\"width:696px\"><img alt=\"70 Motif Batik Pandeglang Yang Belum Banyak Di Ketahui Orang\" class=\"ezlazyload wp-image-36982 size-full\" data-ezsrc=\"https://www.pelitabanten.com/wp-content/uploads/2018/12/70-Motif-Batik-Pandeglang-Yang-Belum-Banyak-Di-Ketahui-Orang-7.jpg\" data-ezsrcset=\"https://www.pelitabanten.com/wp-content/uploads/2018/12/70-Motif-Batik-Pandeglang-Yang-Belum-Banyak-Di-Ketahui-Orang-7.jpg 696w,https://www.pelitabanten.com/wp-content/uploads/2018/12/70-Motif-Batik-Pandeglang-Yang-Belum-Banyak-Di-Ketahui-Orang-7-265x300.jpg 265w,https://www.pelitabanten.com/wp-content/uploads/2018/12/70-Motif-Batik-Pandeglang-Yang-Belum-Banyak-Di-Ketahui-Orang-7-371x420.jpg 371w,https://www.pelitabanten.com/wp-content/uploads/2018/12/70-Motif-Batik-Pandeglang-Yang-Belum-Banyak-Di-Ketahui-Orang-7-640x725.jpg 640w\" ezimgfmt=\"rs rscb188 src ng ngcb188 srcset\" height=\"788\" loading=\"lazy\" sizes=\"(max-width: 696px) 100vw, 696px\" src=\"data:image/svg+xml,%3Csvg xmlns=%22http://www.w3.org/2000/svg%22 width=%22696%22 height=%22788%22%3E%3C/svg%3E\" width=\"696\"/><figcaption class=\"wp-caption-text\" id=\"caption-attachment-36982\">Motif Batik Gula Kawung Sakojor. Foto: facebook.com/boim.tiga</figcaption></figure>,\n",
              " <figure aria-describedby=\"caption-attachment-36983\" class=\"wp-caption aligncenter\" id=\"attachment_36983\" style=\"width:705px\"><img alt=\"70 Motif Batik Pandeglang Yang Belum Banyak Di Ketahui Orang\" class=\"ezlazyload wp-image-36983 size-full\" data-ezsrc=\"https://www.pelitabanten.com/wp-content/uploads/2018/12/70-Motif-Batik-Pandeglang-Yang-Belum-Banyak-Di-Ketahui-Orang-8.jpg\" data-ezsrcset=\"https://www.pelitabanten.com/wp-content/uploads/2018/12/70-Motif-Batik-Pandeglang-Yang-Belum-Banyak-Di-Ketahui-Orang-8.jpg 705w,https://www.pelitabanten.com/wp-content/uploads/2018/12/70-Motif-Batik-Pandeglang-Yang-Belum-Banyak-Di-Ketahui-Orang-8-300x300.jpg 300w,https://www.pelitabanten.com/wp-content/uploads/2018/12/70-Motif-Batik-Pandeglang-Yang-Belum-Banyak-Di-Ketahui-Orang-8-150x150.jpg 150w,https://www.pelitabanten.com/wp-content/uploads/2018/12/70-Motif-Batik-Pandeglang-Yang-Belum-Banyak-Di-Ketahui-Orang-8-420x420.jpg 420w,https://www.pelitabanten.com/wp-content/uploads/2018/12/70-Motif-Batik-Pandeglang-Yang-Belum-Banyak-Di-Ketahui-Orang-8-640x640.jpg 640w\" ezimgfmt=\"rs rscb188 src ng ngcb188 srcset\" height=\"705\" loading=\"lazy\" sizes=\"(max-width: 705px) 100vw, 705px\" src=\"data:image/svg+xml,%3Csvg xmlns=%22http://www.w3.org/2000/svg%22 width=%22705%22 height=%22705%22%3E%3C/svg%3E\" width=\"705\"/><figcaption class=\"wp-caption-text\" id=\"caption-attachment-36983\">Motif Batik Rampak Bedug. Foto: facebook.com/boim.tiga</figcaption></figure>,\n",
              " <figure aria-describedby=\"caption-attachment-36992\" class=\"wp-caption aligncenter\" id=\"attachment_36992\" style=\"width:727px\"><img alt=\"70 Motif Batik Pandeglang Yang Belum Banyak Di Ketahui Orang\" class=\"ezlazyload wp-image-36992 size-full\" data-ezsrc=\"https://www.pelitabanten.com/wp-content/uploads/2018/12/70-Motif-Batik-Pandeglang-Yang-Belum-Banyak-Di-Ketahui-Orang-14.jpg\" data-ezsrcset=\"https://www.pelitabanten.com/wp-content/uploads/2018/12/70-Motif-Batik-Pandeglang-Yang-Belum-Banyak-Di-Ketahui-Orang-14.jpg 727w,https://www.pelitabanten.com/wp-content/uploads/2018/12/70-Motif-Batik-Pandeglang-Yang-Belum-Banyak-Di-Ketahui-Orang-14-300x300.jpg 300w,https://www.pelitabanten.com/wp-content/uploads/2018/12/70-Motif-Batik-Pandeglang-Yang-Belum-Banyak-Di-Ketahui-Orang-14-150x150.jpg 150w,https://www.pelitabanten.com/wp-content/uploads/2018/12/70-Motif-Batik-Pandeglang-Yang-Belum-Banyak-Di-Ketahui-Orang-14-420x420.jpg 420w,https://www.pelitabanten.com/wp-content/uploads/2018/12/70-Motif-Batik-Pandeglang-Yang-Belum-Banyak-Di-Ketahui-Orang-14-640x640.jpg 640w\" ezimgfmt=\"rs rscb188 src ng ngcb188 srcset\" height=\"727\" loading=\"lazy\" sizes=\"(max-width: 727px) 100vw, 727px\" src=\"data:image/svg+xml,%3Csvg xmlns=%22http://www.w3.org/2000/svg%22 width=%22727%22 height=%22727%22%3E%3C/svg%3E\" width=\"727\"/><figcaption class=\"wp-caption-text\" id=\"caption-attachment-36992\">Motif Batik Taleus Sabeuti Pandan Sadapur. Foto: facebook.com/boim.tiga</figcaption></figure>,\n",
              " <figure aria-describedby=\"caption-attachment-36984\" class=\"wp-caption aligncenter\" id=\"attachment_36984\" style=\"width:742px\"><img alt=\"70 Motif Batik Pandeglang Yang Belum Banyak Di Ketahui Orang\" class=\"ezlazyload wp-image-36984 size-full\" data-ezsrc=\"https://www.pelitabanten.com/wp-content/uploads/2018/12/70-Motif-Batik-Pandeglang-Yang-Belum-Banyak-Di-Ketahui-Orang-9.jpg\" data-ezsrcset=\"https://www.pelitabanten.com/wp-content/uploads/2018/12/70-Motif-Batik-Pandeglang-Yang-Belum-Banyak-Di-Ketahui-Orang-9.jpg 742w,https://www.pelitabanten.com/wp-content/uploads/2018/12/70-Motif-Batik-Pandeglang-Yang-Belum-Banyak-Di-Ketahui-Orang-9-300x300.jpg 300w,https://www.pelitabanten.com/wp-content/uploads/2018/12/70-Motif-Batik-Pandeglang-Yang-Belum-Banyak-Di-Ketahui-Orang-9-150x150.jpg 150w,https://www.pelitabanten.com/wp-content/uploads/2018/12/70-Motif-Batik-Pandeglang-Yang-Belum-Banyak-Di-Ketahui-Orang-9-420x420.jpg 420w,https://www.pelitabanten.com/wp-content/uploads/2018/12/70-Motif-Batik-Pandeglang-Yang-Belum-Banyak-Di-Ketahui-Orang-9-640x640.jpg 640w\" ezimgfmt=\"rs rscb188 src ng ngcb188 srcset\" height=\"742\" loading=\"lazy\" sizes=\"(max-width: 742px) 100vw, 742px\" src=\"data:image/svg+xml,%3Csvg xmlns=%22http://www.w3.org/2000/svg%22 width=%22742%22 height=%22742%22%3E%3C/svg%3E\" width=\"742\"/><figcaption class=\"wp-caption-text\" id=\"caption-attachment-36984\">Motif Batik Peuteuy Sarapan Jengkol Sapalekpek. Foto: facebook.com/boim.tiga</figcaption></figure>,\n",
              " <figure aria-describedby=\"caption-attachment-36985\" class=\"wp-caption aligncenter\" id=\"attachment_36985\" style=\"width:774px\"><img alt=\"70 Motif Batik Pandeglang Yang Belum Banyak Di Ketahui Orang\" class=\"ezlazyload wp-image-36985 size-full\" data-ezsrc=\"https://www.pelitabanten.com/wp-content/uploads/2018/12/70-Motif-Batik-Pandeglang-Yang-Belum-Banyak-Di-Ketahui-Orang-10.jpg\" data-ezsrcset=\"https://www.pelitabanten.com/wp-content/uploads/2018/12/70-Motif-Batik-Pandeglang-Yang-Belum-Banyak-Di-Ketahui-Orang-10.jpg 774w,https://www.pelitabanten.com/wp-content/uploads/2018/12/70-Motif-Batik-Pandeglang-Yang-Belum-Banyak-Di-Ketahui-Orang-10-300x300.jpg 300w,https://www.pelitabanten.com/wp-content/uploads/2018/12/70-Motif-Batik-Pandeglang-Yang-Belum-Banyak-Di-Ketahui-Orang-10-150x150.jpg 150w,https://www.pelitabanten.com/wp-content/uploads/2018/12/70-Motif-Batik-Pandeglang-Yang-Belum-Banyak-Di-Ketahui-Orang-10-420x420.jpg 420w,https://www.pelitabanten.com/wp-content/uploads/2018/12/70-Motif-Batik-Pandeglang-Yang-Belum-Banyak-Di-Ketahui-Orang-10-640x640.jpg 640w\" ezimgfmt=\"rs rscb188 src ng ngcb188 srcset\" height=\"774\" loading=\"lazy\" sizes=\"(max-width: 774px) 100vw, 774px\" src=\"data:image/svg+xml,%3Csvg xmlns=%22http://www.w3.org/2000/svg%22 width=%22774%22 height=%22774%22%3E%3C/svg%3E\" width=\"774\"/><figcaption class=\"wp-caption-text\" id=\"caption-attachment-36985\">Motif Batik Leuit Salisung Pare Sapocong. Foto: facebook.com/boim.tiga</figcaption></figure>,\n",
              " <figure aria-describedby=\"caption-attachment-36986\" class=\"wp-caption aligncenter\" id=\"attachment_36986\" style=\"width:696px\"><img alt=\"70 Motif Batik Pandeglang Yang Belum Banyak Di Ketahui Orang\" class=\"ezlazyload wp-image-36986 size-full\" data-ezsrc=\"https://www.pelitabanten.com/wp-content/uploads/2018/12/70-Motif-Batik-Pandeglang-Yang-Belum-Banyak-Di-Ketahui-Orang-11.jpg\" data-ezsrcset=\"https://www.pelitabanten.com/wp-content/uploads/2018/12/70-Motif-Batik-Pandeglang-Yang-Belum-Banyak-Di-Ketahui-Orang-11.jpg 696w,https://www.pelitabanten.com/wp-content/uploads/2018/12/70-Motif-Batik-Pandeglang-Yang-Belum-Banyak-Di-Ketahui-Orang-11-300x300.jpg 300w,https://www.pelitabanten.com/wp-content/uploads/2018/12/70-Motif-Batik-Pandeglang-Yang-Belum-Banyak-Di-Ketahui-Orang-11-150x150.jpg 150w,https://www.pelitabanten.com/wp-content/uploads/2018/12/70-Motif-Batik-Pandeglang-Yang-Belum-Banyak-Di-Ketahui-Orang-11-420x420.jpg 420w,https://www.pelitabanten.com/wp-content/uploads/2018/12/70-Motif-Batik-Pandeglang-Yang-Belum-Banyak-Di-Ketahui-Orang-11-640x640.jpg 640w\" ezimgfmt=\"rs rscb188 src ng ngcb188 srcset\" height=\"696\" loading=\"lazy\" sizes=\"(max-width: 696px) 100vw, 696px\" src=\"data:image/svg+xml,%3Csvg xmlns=%22http://www.w3.org/2000/svg%22 width=%22696%22 height=%22696%22%3E%3C/svg%3E\" width=\"696\"/><figcaption class=\"wp-caption-text\" id=\"caption-attachment-36986\">Motif Batik Badak Sacula. Foto: facebook.com/boim.tiga</figcaption></figure>,\n",
              " <figure aria-describedby=\"caption-attachment-36987\" class=\"wp-caption aligncenter\" id=\"attachment_36987\" style=\"width:707px\"><img alt=\"70 Motif Batik Pandeglang Yang Belum Banyak Di Ketahui Orang\" class=\"ezlazyload wp-image-36987 size-full\" data-ezsrc=\"https://www.pelitabanten.com/wp-content/uploads/2018/12/70-Motif-Batik-Pandeglang-Yang-Belum-Banyak-Di-Ketahui-Orang-12.jpg\" data-ezsrcset=\"https://www.pelitabanten.com/wp-content/uploads/2018/12/70-Motif-Batik-Pandeglang-Yang-Belum-Banyak-Di-Ketahui-Orang-12.jpg 707w,https://www.pelitabanten.com/wp-content/uploads/2018/12/70-Motif-Batik-Pandeglang-Yang-Belum-Banyak-Di-Ketahui-Orang-12-300x300.jpg 300w,https://www.pelitabanten.com/wp-content/uploads/2018/12/70-Motif-Batik-Pandeglang-Yang-Belum-Banyak-Di-Ketahui-Orang-12-150x150.jpg 150w,https://www.pelitabanten.com/wp-content/uploads/2018/12/70-Motif-Batik-Pandeglang-Yang-Belum-Banyak-Di-Ketahui-Orang-12-420x420.jpg 420w,https://www.pelitabanten.com/wp-content/uploads/2018/12/70-Motif-Batik-Pandeglang-Yang-Belum-Banyak-Di-Ketahui-Orang-12-640x640.jpg 640w\" ezimgfmt=\"rs rscb188 src ng ngcb188 srcset\" height=\"707\" loading=\"lazy\" sizes=\"(max-width: 707px) 100vw, 707px\" src=\"data:image/svg+xml,%3Csvg xmlns=%22http://www.w3.org/2000/svg%22 width=%22707%22 height=%22707%22%3E%3C/svg%3E\" width=\"707\"/><figcaption class=\"wp-caption-text\" id=\"caption-attachment-36987\">Motif Batik Kacapi Saruntuy. Foto: facebook.com/boim.tiga</figcaption></figure>,\n",
              " <figure aria-describedby=\"caption-attachment-36988\" class=\"wp-caption aligncenter\" id=\"attachment_36988\" style=\"width:689px\"><img alt=\"70 Motif Batik Pandeglang Yang Belum Banyak Di Ketahui Orang\" class=\"ezlazyload wp-image-36988 size-full\" data-ezsrc=\"https://www.pelitabanten.com/wp-content/uploads/2018/12/70-Motif-Batik-Pandeglang-Yang-Belum-Banyak-Di-Ketahui-Orang-13.jpg\" data-ezsrcset=\"https://www.pelitabanten.com/wp-content/uploads/2018/12/70-Motif-Batik-Pandeglang-Yang-Belum-Banyak-Di-Ketahui-Orang-13.jpg 689w,https://www.pelitabanten.com/wp-content/uploads/2018/12/70-Motif-Batik-Pandeglang-Yang-Belum-Banyak-Di-Ketahui-Orang-13-300x300.jpg 300w,https://www.pelitabanten.com/wp-content/uploads/2018/12/70-Motif-Batik-Pandeglang-Yang-Belum-Banyak-Di-Ketahui-Orang-13-150x150.jpg 150w,https://www.pelitabanten.com/wp-content/uploads/2018/12/70-Motif-Batik-Pandeglang-Yang-Belum-Banyak-Di-Ketahui-Orang-13-420x420.jpg 420w,https://www.pelitabanten.com/wp-content/uploads/2018/12/70-Motif-Batik-Pandeglang-Yang-Belum-Banyak-Di-Ketahui-Orang-13-640x640.jpg 640w\" ezimgfmt=\"rs rscb188 src ng ngcb188 srcset\" height=\"689\" loading=\"lazy\" sizes=\"(max-width: 689px) 100vw, 689px\" src=\"data:image/svg+xml,%3Csvg xmlns=%22http://www.w3.org/2000/svg%22 width=%22689%22 height=%22689%22%3E%3C/svg%3E\" width=\"689\"/><figcaption class=\"wp-caption-text\" id=\"caption-attachment-36988\">Motif Batik Cangkaleng Sasiki. Foto: facebook.com/boim.tiga</figcaption></figure>]"
            ]
          },
          "metadata": {},
          "execution_count": 125
        }
      ]
    },
    {
      "cell_type": "code",
      "metadata": {
        "colab": {
          "base_uri": "https://localhost:8080/"
        },
        "id": "owJGE8m9fbL7",
        "outputId": "087dc20d-cf06-4dc2-eb96-95fc6daafebc"
      },
      "source": [
        "img_links = [batik_motives[0].find('img').get('src')]\n",
        "for i in batik_motives[1:]:\n",
        "  img_links.append(getAllImgLink(i, 'data-ezsrc')[0])\n",
        "img_links"
      ],
      "execution_count": null,
      "outputs": [
        {
          "output_type": "execute_result",
          "data": {
            "text/plain": [
              "['https://www.pelitabanten.com/wp-content/uploads/2018/12/70-Motif-Batik-Pandeglang-Yang-Belum-Banyak-Di-Ketahui-Orang-640x640.jpg?ezimgfmt=rs%3Adevice%2Frscb188-1',\n",
              " 'https://www.pelitabanten.com/wp-content/uploads/2018/12/70-Motif-Batik-Pandeglang-Yang-Belum-Banyak-Di-Ketahui-Orang-1.jpg',\n",
              " 'https://www.pelitabanten.com/wp-content/uploads/2018/12/70-Motif-Batik-Pandeglang-Yang-Belum-Banyak-Di-Ketahui-Orang-2.jpg',\n",
              " 'https://www.pelitabanten.com/wp-content/uploads/2018/12/70-Motif-Batik-Pandeglang-Yang-Belum-Banyak-Di-Ketahui-Orang-3.jpg',\n",
              " 'https://www.pelitabanten.com/wp-content/uploads/2018/12/70-Motif-Batik-Pandeglang-Yang-Belum-Banyak-Di-Ketahui-Orang-4.jpg',\n",
              " 'https://www.pelitabanten.com/wp-content/uploads/2018/12/70-Motif-Batik-Pandeglang-Yang-Belum-Banyak-Di-Ketahui-Orang-5.jpg',\n",
              " 'https://www.pelitabanten.com/wp-content/uploads/2018/12/70-Motif-Batik-Pandeglang-Yang-Belum-Banyak-Di-Ketahui-Orang-6.jpg',\n",
              " 'https://www.pelitabanten.com/wp-content/uploads/2018/12/70-Motif-Batik-Pandeglang-Yang-Belum-Banyak-Di-Ketahui-Orang-7.jpg',\n",
              " 'https://www.pelitabanten.com/wp-content/uploads/2018/12/70-Motif-Batik-Pandeglang-Yang-Belum-Banyak-Di-Ketahui-Orang-8.jpg',\n",
              " 'https://www.pelitabanten.com/wp-content/uploads/2018/12/70-Motif-Batik-Pandeglang-Yang-Belum-Banyak-Di-Ketahui-Orang-14.jpg',\n",
              " 'https://www.pelitabanten.com/wp-content/uploads/2018/12/70-Motif-Batik-Pandeglang-Yang-Belum-Banyak-Di-Ketahui-Orang-9.jpg',\n",
              " 'https://www.pelitabanten.com/wp-content/uploads/2018/12/70-Motif-Batik-Pandeglang-Yang-Belum-Banyak-Di-Ketahui-Orang-10.jpg',\n",
              " 'https://www.pelitabanten.com/wp-content/uploads/2018/12/70-Motif-Batik-Pandeglang-Yang-Belum-Banyak-Di-Ketahui-Orang-11.jpg',\n",
              " 'https://www.pelitabanten.com/wp-content/uploads/2018/12/70-Motif-Batik-Pandeglang-Yang-Belum-Banyak-Di-Ketahui-Orang-12.jpg',\n",
              " 'https://www.pelitabanten.com/wp-content/uploads/2018/12/70-Motif-Batik-Pandeglang-Yang-Belum-Banyak-Di-Ketahui-Orang-13.jpg']"
            ]
          },
          "metadata": {},
          "execution_count": 130
        }
      ]
    },
    {
      "cell_type": "code",
      "metadata": {
        "id": "GoH9Gc4Ej6S6"
      },
      "source": [
        "def saveImgs(img_links, img_count, dir, extension = 'jpg'):\n",
        "  for j in img_links:\n",
        "    with open(f'{dir}/{img_count}.{extension}', 'wb') as file:\n",
        "      file.write(requests.get(j).content)\n",
        "      img_count += 1\n",
        "  return img_count"
      ],
      "execution_count": null,
      "outputs": []
    },
    {
      "cell_type": "code",
      "metadata": {
        "id": "CIw-ymprjTxq"
      },
      "source": [
        "motives_count = saveImgs(img_links, motives_count, 'motives')"
      ],
      "execution_count": null,
      "outputs": []
    },
    {
      "cell_type": "code",
      "metadata": {
        "colab": {
          "base_uri": "https://localhost:8080/"
        },
        "id": "PkjQo2xvkYTk",
        "outputId": "0a972ae1-fd2d-4bd5-ef37-b774b24ac301"
      },
      "source": [
        "url = 'https://bergaya.id/batik-kalimantan/'\n",
        "html = getScrapHtml(url)"
      ],
      "execution_count": null,
      "outputs": [
        {
          "output_type": "execute_result",
          "data": {
            "text/plain": [
              "<!DOCTYPE html>\n",
              "<html lang=\"en-US\"><head><meta charset=\"utf-8\"/><link href=\"https://gmpg.org/xfn/11\" rel=\"profile\"/><meta content=\"index, follow, max-image-preview:large, max-snippet:-1, max-video-preview:-1\" name=\"robots\"/><title>√ 45+ Motif Batik Kalimantan Barat, Timur, Tengah [Lengkap]</title><link data-minify=\"1\" href=\"https://bergaya.id/wp-content/cache/min/1/0fcbdcd1aaf6a4b0d5b6e6c0cdbff58c.css\" rel=\"stylesheet\"/><meta content=\"Yuk kenali batik kalimantan timur, tengah, selatan, utara, dan barat disini. Lengkap beserta filosofi dan sejarahnya.\" name=\"description\"/><link href=\"https://bergaya.id/batik-kalimantan/\" rel=\"canonical\"/><meta content=\"en_US\" property=\"og:locale\"/><meta content=\"article\" property=\"og:type\"/><meta content=\"√ 45+ Motif Batik Kalimantan Barat, Timur, Tengah [Lengkap]\" property=\"og:title\"/><meta content=\"Yuk kenali batik kalimantan timur, tengah, selatan, utara, dan barat disini. Lengkap beserta filosofi dan sejarahnya.\" property=\"og:description\"/><meta content=\"https://bergaya.id/batik-kalimantan/\" property=\"og:url\"/><meta content=\"Bergaya.ID\" property=\"og:site_name\"/><meta content=\"https://www.facebook.com/risti.ajha.5\" property=\"article:author\"/><meta content=\"2021-08-12T15:39:35+00:00\" property=\"article:published_time\"/><meta content=\"https://bergaya.id/wp-content/uploads/2020/03/Motif-Batik-Kalimantan-Dayak.jpg\" property=\"og:image\"/><meta content=\"1600\" property=\"og:image:width\"/><meta content=\"1314\" property=\"og:image:height\"/><meta content=\"summary_large_image\" name=\"twitter:card\"/><meta content=\"Written by\" name=\"twitter:label1\"/><meta content=\"Resty Aprilia\" name=\"twitter:data1\"/><meta content=\"Est. reading time\" name=\"twitter:label2\"/><meta content=\"12 minutes\" name=\"twitter:data2\"/> <script class=\"yoast-schema-graph\" type=\"application/ld+json\">{\"@context\":\"https://schema.org\",\"@graph\":[{\"@type\":\"Organization\",\"@id\":\"https://bergaya.id/#organization\",\"name\":\"Bergaya Corporation\",\"url\":\"https://bergaya.id/\",\"sameAs\":[],\"logo\":{\"@type\":\"ImageObject\",\"@id\":\"https://bergaya.id/#logo\",\"inLanguage\":\"en-US\",\"url\":\"https://bergaya.id/wp-content/uploads/2020/05/b-icon-png-6.png\",\"contentUrl\":\"https://bergaya.id/wp-content/uploads/2020/05/b-icon-png-6.png\",\"width\":512,\"height\":512,\"caption\":\"Bergaya Corporation\"},\"image\":{\"@id\":\"https://bergaya.id/#logo\"}},{\"@type\":\"WebSite\",\"@id\":\"https://bergaya.id/#website\",\"url\":\"https://bergaya.id/\",\"name\":\"Bergaya.ID\",\"description\":\"Bergaya Bukan Sekedar Gaya\",\"publisher\":{\"@id\":\"https://bergaya.id/#organization\"},\"potentialAction\":[{\"@type\":\"SearchAction\",\"target\":{\"@type\":\"EntryPoint\",\"urlTemplate\":\"https://bergaya.id/?s={search_term_string}\"},\"query-input\":\"required name=search_term_string\"}],\"inLanguage\":\"en-US\"},{\"@type\":\"ImageObject\",\"@id\":\"https://bergaya.id/batik-kalimantan/#primaryimage\",\"inLanguage\":\"en-US\",\"url\":\"https://bergaya.id/wp-content/uploads/2020/03/Motif-Batik-Kalimantan-Dayak.jpg\",\"contentUrl\":\"https://bergaya.id/wp-content/uploads/2020/03/Motif-Batik-Kalimantan-Dayak.jpg\",\"width\":1600,\"height\":1314,\"caption\":\"pinterest.com\"},{\"@type\":\"WebPage\",\"@id\":\"https://bergaya.id/batik-kalimantan/#webpage\",\"url\":\"https://bergaya.id/batik-kalimantan/\",\"name\":\"\\u221a 45+ Motif Batik Kalimantan Barat, Timur, Tengah [Lengkap]\",\"isPartOf\":{\"@id\":\"https://bergaya.id/#website\"},\"primaryImageOfPage\":{\"@id\":\"https://bergaya.id/batik-kalimantan/#primaryimage\"},\"datePublished\":\"2021-08-12T15:39:35+00:00\",\"dateModified\":\"2021-08-12T15:39:35+00:00\",\"description\":\"Yuk kenali batik kalimantan timur, tengah, selatan, utara, dan barat disini. Lengkap beserta filosofi dan sejarahnya.\",\"breadcrumb\":{\"@id\":\"https://bergaya.id/batik-kalimantan/#breadcrumb\"},\"inLanguage\":\"en-US\",\"potentialAction\":[{\"@type\":\"ReadAction\",\"target\":[\"https://bergaya.id/batik-kalimantan/\"]}]},{\"@type\":\"BreadcrumbList\",\"@id\":\"https://bergaya.id/batik-kalimantan/#breadcrumb\",\"itemListElement\":[{\"@type\":\"ListItem\",\"position\":1,\"name\":\"Home\",\"item\":\"https://bergaya.id/\"},{\"@type\":\"ListItem\",\"position\":2,\"name\":\"Fashion\",\"item\":\"https://bergaya.id/fashion/\"},{\"@type\":\"ListItem\",\"position\":3,\"name\":\"Batik\",\"item\":\"https://bergaya.id/fashion/batik/\"},{\"@type\":\"ListItem\",\"position\":4,\"name\":\"Batik Kalimantan\"}]},{\"@type\":\"Article\",\"@id\":\"https://bergaya.id/batik-kalimantan/#article\",\"isPartOf\":{\"@id\":\"https://bergaya.id/batik-kalimantan/#webpage\"},\"author\":{\"@id\":\"https://bergaya.id/#/schema/person/44cf922d9a91806d91ea9c8aa1ab1714\"},\"headline\":\"Batik Kalimantan\",\"datePublished\":\"2021-08-12T15:39:35+00:00\",\"dateModified\":\"2021-08-12T15:39:35+00:00\",\"mainEntityOfPage\":{\"@id\":\"https://bergaya.id/batik-kalimantan/#webpage\"},\"wordCount\":2358,\"commentCount\":0,\"publisher\":{\"@id\":\"https://bergaya.id/#organization\"},\"image\":{\"@id\":\"https://bergaya.id/batik-kalimantan/#primaryimage\"},\"thumbnailUrl\":\"https://bergaya.id/wp-content/uploads/2020/03/Motif-Batik-Kalimantan-Dayak.jpg\",\"articleSection\":[\"Batik\"],\"inLanguage\":\"en-US\",\"potentialAction\":[{\"@type\":\"CommentAction\",\"name\":\"Comment\",\"target\":[\"https://bergaya.id/batik-kalimantan/#respond\"]}]},{\"@type\":\"Person\",\"@id\":\"https://bergaya.id/#/schema/person/44cf922d9a91806d91ea9c8aa1ab1714\",\"name\":\"Resty Aprilia\",\"image\":{\"@type\":\"ImageObject\",\"@id\":\"https://bergaya.id/#personlogo\",\"inLanguage\":\"en-US\",\"url\":\"https://bergaya.id/wp-content/uploads/2019/10/IMG-20191031-WA0022-96x96.jpg\",\"contentUrl\":\"https://bergaya.id/wp-content/uploads/2019/10/IMG-20191031-WA0022-96x96.jpg\",\"caption\":\"Resty Aprilia\"},\"description\":\"Seorang dreamer and learner yang suka menulis perkembangan lifestyle kaum millenial dari masa ke masa.\",\"sameAs\":[\"https://bergaya.id\",\"https://www.facebook.com/risti.ajha.5\",\"https://www.instagram.com/resty_aprilia04/\"],\"url\":\"https://bergaya.id/author/restyaprilia/\"}]}</script> <link href=\"//www.googletagmanager.com\" rel=\"dns-prefetch\"/><link href=\"https://bergaya.id/feed/\" rel=\"alternate\" title=\"Bergaya.ID » Feed\" type=\"application/rss+xml\"/><link href=\"https://bergaya.id/comments/feed/\" rel=\"alternate\" title=\"Bergaya.ID » Comments Feed\" type=\"application/rss+xml\"/><link href=\"https://bergaya.id/batik-kalimantan/feed/\" rel=\"alternate\" title=\"Bergaya.ID » Batik Kalimantan Comments Feed\" type=\"application/rss+xml\"/><style>img.wp-smiley,img.emoji{display:inline!important;border:none!important;box-shadow:none!important;height:1em!important;width:1em!important;margin:0 .07em!important;vertical-align:-0.1em!important;background:none!important;padding:0!important}</style><style id=\"generate-style-inline-css\">body{background-color:#fff;color:#3a3a3a}a{color:#c6251f}a:hover,a:focus,a:active{color:#000}body .grid-container{max-width:810px}.wp-block-group__inner-container{max-width:810px;margin-left:auto;margin-right:auto}.generate-back-to-top{font-size:20px;border-radius:3px;position:fixed;bottom:30px;right:30px;line-height:40px;width:40px;text-align:center;z-index:10;transition:opacity 300ms ease-in-out}.navigation-search{position:absolute;left:-99999px;pointer-events:none;visibility:hidden;z-index:20;width:100%;top:0;transition:opacity 100ms ease-in-out;opacity:0}.navigation-search.nav-search-active{left:0;right:0;pointer-events:auto;visibility:visible;opacity:1}.navigation-search input[type=\"search\"]{outline:0;border:0;vertical-align:bottom;line-height:1;opacity:.9;width:100%;z-index:20;border-radius:0;-webkit-appearance:none;height:60px}.navigation-search input::-ms-clear{display:none;width:0;height:0}.navigation-search input::-ms-reveal{display:none;width:0;height:0}.navigation-search input::-webkit-search-decoration,.navigation-search input::-webkit-search-cancel-button,.navigation-search input::-webkit-search-results-button,.navigation-search input::-webkit-search-results-decoration{display:none}.main-navigation li.search-item{z-index:21}li.search-item.active{transition:opacity 100ms ease-in-out}.nav-left-sidebar .main-navigation li.search-item.active,.nav-right-sidebar .main-navigation li.search-item.active{width:auto;display:inline-block;float:right}.gen-sidebar-nav .navigation-search{top:auto;bottom:0}body,button,input,select,textarea{font-family:Segoe UI,Helvetica Neue,Helvetica,sans-serif;font-size:16px}body{line-height:1.5}.entry-content>[class*=\"wp-block-\"]:not(:last-child){margin-bottom:1.5em}.main-title{font-family:Segoe UI,Helvetica Neue,Helvetica,sans-serif}.site-description{font-family:Segoe UI,Helvetica Neue,Helvetica,sans-serif}.main-navigation .main-nav ul ul li a{font-size:14px}.sidebar .widget,.footer-widgets .widget{font-size:17px}button:not(.menu-toggle),html input[type=\"button\"],input[type=\"reset\"],input[type=\"submit\"],.button,.wp-block-button .wp-block-button__link{font-family:Segoe UI,Helvetica Neue,Helvetica,sans-serif}h1{font-family:Segoe UI,Helvetica Neue,Helvetica,sans-serif;font-weight:700;font-size:36px;line-height:1.4em;margin-bottom:21px}h2{font-family:Segoe UI,Helvetica Neue,Helvetica,sans-serif;font-weight:700;font-size:30px}h3{font-family:Segoe UI,Helvetica Neue,Helvetica,sans-serif;font-weight:700;font-size:20px}h4{font-family:Segoe UI,Helvetica Neue,Helvetica,sans-serif;font-weight:700;font-size:inherit}h5{font-family:Segoe UI,Helvetica Neue,Helvetica,sans-serif;font-weight:700;font-size:inherit}h6{font-family:Segoe UI,Helvetica Neue,Helvetica,sans-serif;font-weight:700}@media (max-width:768px){.main-title{font-size:20px}h1{font-size:30px}h2{font-size:25px}}.top-bar{background-color:#636363;color:#fff}.top-bar a{color:#fff}.top-bar a:hover{color:#303030}.site-header{background-color:#fff;color:#3a3a3a}.site-header a{color:#3a3a3a}.main-title a,.main-title a:hover{color:#fff}.site-description{color:#757575}.main-navigation,.main-navigation ul ul{background-color:#f75454}.main-navigation .main-nav ul li a,.menu-toggle,.main-navigation .menu-bar-items{color:#fff}.main-navigation .main-nav ul li:hover>a,.main-navigation .main-nav ul li:focus>a,.main-navigation .main-nav ul li.sfHover>a,.main-navigation .menu-bar-item:hover>a,.main-navigation .menu-bar-item.sfHover>a{color:#fff;background-color:#c63d0b}button.menu-toggle:hover,button.menu-toggle:focus,.main-navigation .mobile-bar-items a,.main-navigation .mobile-bar-items a:hover,.main-navigation .mobile-bar-items a:focus{color:#fff}.main-navigation .main-nav ul li[class*=\"current-menu-\"]>a{color:#fff;background-color:#c63d0b}.main-navigation .main-nav ul li[class*=\"current-menu-\"]>a:hover,.main-navigation .main-nav ul li[class*=\"current-menu-\"].sfHover>a{color:#fff;background-color:#c63d0b}.navigation-search input[type=\"search\"],.navigation-search input[type=\"search\"]:active,.navigation-search input[type=\"search\"]:focus,.main-navigation .main-nav ul li.search-item.active>a,.main-navigation .menu-bar-items .search-item.active>a{color:#fff;background-color:#c63d0b}.main-navigation ul ul{background-color:#c63d0b}.main-navigation .main-nav ul ul li a{color:#fff}.main-navigation .main-nav ul ul li:hover>a,.main-navigation .main-nav ul ul li:focus>a,.main-navigation .main-nav ul ul li.sfHover>a{color:#fff;background-color:#3f3f3f}.main-navigation .main-nav ul ul li[class*=\"current-menu-\"]>a{color:#fff;background-color:#4f4f4f}.main-navigation .main-nav ul ul li[class*=\"current-menu-\"]>a:hover,.main-navigation .main-nav ul ul li[class*=\"current-menu-\"].sfHover>a{color:#fff;background-color:#4f4f4f}.separate-containers .inside-article,.separate-containers .comments-area,.separate-containers .page-header,.one-container .container,.separate-containers .paging-navigation,.inside-page-header{background-color:#fff}.entry-meta{color:#595959}.entry-meta a{color:#595959}.entry-meta a:hover{color:#1e73be}.sidebar .widget{background-color:#fff}.sidebar .widget .widget-title{color:#000}.footer-widgets{background-color:#fff}.footer-widgets .widget-title{color:#000}.site-info{color:#fff;background-color:#f75454}.site-info a{color:#fff}.site-info a:hover{color:#606060}.footer-bar .widget_nav_menu .current-menu-item a{color:#606060}input[type=\"text\"],input[type=\"email\"],input[type=\"url\"],input[type=\"password\"],input[type=\"search\"],input[type=\"tel\"],input[type=\"number\"],textarea,select{color:#666;background-color:#fafafa;border-color:#ccc}input[type=\"text\"]:focus,input[type=\"email\"]:focus,input[type=\"url\"]:focus,input[type=\"password\"]:focus,input[type=\"search\"]:focus,input[type=\"tel\"]:focus,input[type=\"number\"]:focus,textarea:focus,select:focus{color:#666;background-color:#fff;border-color:#bfbfbf}button,html input[type=\"button\"],input[type=\"reset\"],input[type=\"submit\"],a.button,a.wp-block-button__link:not(.has-background){color:#fff;background-color:#f75454}button:hover,html input[type=\"button\"]:hover,input[type=\"reset\"]:hover,input[type=\"submit\"]:hover,a.button:hover,button:focus,html input[type=\"button\"]:focus,input[type=\"reset\"]:focus,input[type=\"submit\"]:focus,a.button:focus,a.wp-block-button__link:not(.has-background):active,a.wp-block-button__link:not(.has-background):focus,a.wp-block-button__link:not(.has-background):hover{color:#fff;background-color:#c6552b}a.generate-back-to-top{background-color:rgba(0,0,0,.4);color:#fff}a.generate-back-to-top:hover,a.generate-back-to-top:focus{background-color:rgba(0,0,0,.6);color:#fff}@media (max-width:630px){.main-navigation .menu-bar-item:hover>a,.main-navigation .menu-bar-item.sfHover>a{background:none;color:#fff}}.inside-top-bar{padding:10px}.inside-header{padding:4px}.site-main .wp-block-group__inner-container{padding:40px}.entry-content .alignwide,body:not(.no-sidebar) .entry-content .alignfull{margin-left:-40px;width:calc(100% + 80px);max-width:calc(100% + 80px)}.separate-containers .widget,.separate-containers .site-main>*,.separate-containers .page-header,.widget-area .main-navigation{margin-bottom:8px}.separate-containers .site-main{margin:8px}.both-right.separate-containers .inside-left-sidebar{margin-right:4px}.both-right.separate-containers .inside-right-sidebar{margin-left:4px}.both-left.separate-containers .inside-left-sidebar{margin-right:4px}.both-left.separate-containers .inside-right-sidebar{margin-left:4px}.separate-containers .page-header-image,.separate-containers .page-header-contained,.separate-containers .page-header-image-single,.separate-containers .page-header-content-single{margin-top:8px}.separate-containers .inside-right-sidebar,.separate-containers .inside-left-sidebar{margin-top:8px;margin-bottom:8px}.main-navigation .main-nav ul li a,.menu-toggle,.main-navigation .mobile-bar-items a{padding-left:21px;padding-right:21px;line-height:55px}.main-navigation .main-nav ul ul li a{padding:15px 21px 15px 21px}.navigation-search input[type=\"search\"]{height:55px}.rtl .menu-item-has-children .dropdown-menu-toggle{padding-left:21px}.menu-item-has-children .dropdown-menu-toggle{padding-right:21px}.menu-item-has-children ul .dropdown-menu-toggle{padding-top:15px;padding-bottom:15px;margin-top:-15px}.rtl .main-navigation .main-nav ul li.menu-item-has-children>a{padding-right:21px}.site-info{padding:20px}@media (max-width:768px){.separate-containers .inside-article,.separate-containers .comments-area,.separate-containers .page-header,.separate-containers .paging-navigation,.one-container .site-content,.inside-page-header{padding:30px}.site-main .wp-block-group__inner-container{padding:30px}.site-info{padding-right:10px;padding-left:10px}.entry-content .alignwide,body:not(.no-sidebar) .entry-content .alignfull{margin-left:-30px;width:calc(100% + 60px);max-width:calc(100% + 60px)}}.one-container .sidebar .widget{padding:0}@media (max-width:630px){.main-navigation .menu-toggle,.main-navigation .mobile-bar-items,.sidebar-nav-mobile:not(#sticky-placeholder){display:block}.main-navigation ul,.gen-sidebar-nav{display:none}[class*=\"nav-float-\"] .site-header .inside-header>*{float:none;clear:both}}.dynamic-author-image-rounded{border-radius:100%}.dynamic-featured-image,.dynamic-author-image{vertical-align:middle}.one-container.blog .dynamic-content-template:not(:last-child),.one-container.archive .dynamic-content-template:not(:last-child){padding-bottom:0}.dynamic-entry-excerpt>p:last-child{margin-bottom:0}.navigation-branding .main-title{font-weight:700;text-transform:none;font-size:25px;font-family:Segoe UI,Helvetica Neue,Helvetica,sans-serif}@media (max-width:630px){.navigation-branding .main-title{font-size:20px}}.post-image:not(:first-child),.page-content:not(:first-child),.entry-content:not(:first-child),.entry-summary:not(:first-child),footer.entry-meta{margin-top:2.1em}.post-image-above-header .inside-article div.featured-image,.post-image-above-header .inside-article div.post-image{margin-bottom:2.1em}</style><style id=\"generate-navigation-branding-inline-css\">.navigation-branding img,.site-logo.mobile-header-logo img{height:55px;width:auto}.navigation-branding .main-title{line-height:55px}@media (max-width:820px){#site-navigation .navigation-branding,#sticky-navigation .navigation-branding{margin-left:10px}}@media (max-width:630px){.main-navigation:not(.slideout-navigation) .main-nav{-ms-flex:0 0 100%;flex:0 0 100%}.main-navigation:not(.slideout-navigation) .inside-navigation{-ms-flex-wrap:wrap;flex-wrap:wrap;display:-webkit-box;display:-ms-flexbox;display:flex}.nav-aligned-center .navigation-branding,.nav-aligned-left .navigation-branding{margin-right:auto}.nav-aligned-center .main-navigation.has-branding:not(.slideout-navigation) .inside-navigation .main-nav,.nav-aligned-center .main-navigation.has-sticky-branding.navigation-stick .inside-navigation .main-nav,.nav-aligned-left .main-navigation.has-branding:not(.slideout-navigation) .inside-navigation .main-nav,.nav-aligned-left .main-navigation.has-sticky-branding.navigation-stick .inside-navigation .main-nav{margin-right:0}}</style> <script id=\"jquery-core-js\" src=\"https://bergaya.id/wp-content/cache/busting/1/wp-includes/js/jquery/jquery.min-3.6.0.js\"></script> <script async=\"\" id=\"google_gtagjs-js\" src=\"https://www.googletagmanager.com/gtag/js?id=UA-141197377-5\"></script> <script id=\"google_gtagjs-js-after\">window.dataLayer = window.dataLayer || [];function gtag(){dataLayer.push(arguments);}\n",
              "gtag('set', 'linker', {\"domains\":[\"bergaya.id\"]} );\n",
              "gtag(\"js\", new Date());\n",
              "gtag(\"set\", \"developer_id.dZTNiMT\", true);\n",
              "gtag(\"config\", \"UA-141197377-5\", {\"anonymize_ip\":true});</script> <link href=\"https://bergaya.id/wp-json/\" rel=\"https://api.w.org/\"/><link href=\"https://bergaya.id/wp-json/wp/v2/posts/3202\" rel=\"alternate\" type=\"application/json\"/><link href=\"https://bergaya.id/xmlrpc.php?rsd\" rel=\"EditURI\" title=\"RSD\" type=\"application/rsd+xml\"/><link href=\"https://bergaya.id/wp-includes/wlwmanifest.xml\" rel=\"wlwmanifest\" type=\"application/wlwmanifest+xml\"/><meta content=\"WordPress 5.8.1\" name=\"generator\"/><link href=\"https://bergaya.id/?p=3202\" rel=\"shortlink\"/><link href=\"https://bergaya.id/wp-json/oembed/1.0/embed?url=https%3A%2F%2Fbergaya.id%2Fbatik-kalimantan%2F\" rel=\"alternate\" type=\"application/json+oembed\"/><link href=\"https://bergaya.id/wp-json/oembed/1.0/embed?url=https%3A%2F%2Fbergaya.id%2Fbatik-kalimantan%2F&amp;format=xml\" rel=\"alternate\" type=\"text/xml+oembed\"/><meta content=\"Site Kit by Google 1.40.0\" name=\"generator\"/><script async=\"\" data-ad-client=\"ca-pub-9277707181105853\" src=\"https://pagead2.googlesyndication.com/pagead/js/adsbygoogle.js\"></script> <script>(adsbygoogle = window.adsbygoogle || []).push({\n",
              "          google_ad_client: \"ca-pub-9277707181105853\",\n",
              "          enable_page_level_ads: true,\n",
              "          overlays: {bottom: true}\n",
              "     });</script> <style type=\"text/css\">div#toc_container{background:#fff;border:1px solid #aaa}</style><link href=\"https://bergaya.id/xmlrpc.php\" rel=\"pingback\"/><meta content=\"width=device-width, initial-scale=1\" name=\"viewport\"/><style id=\"generateblocks-css\">.gb-container .wp-block-image img{vertical-align:middle}.gb-container .gb-shape{position:absolute;overflow:hidden;pointer-events:none;line-height:0}.gb-container .gb-shape svg{fill:currentColor}.gb-container-dc127bdc{background-color:rgba(247,84,84,.9)}.gb-container-dc127bdc>.gb-inside-container{padding:120px 20px;max-width:800px;margin-left:auto;margin-right:auto}.gb-container-a0a081ed>.gb-inside-container{padding:0}.gb-grid-wrapper>.gb-grid-column-a0a081ed{width:60%}.gb-container-ff2498dc>.gb-inside-container{padding:0}.gb-grid-wrapper>.gb-grid-column-ff2498dc{width:20%}.gb-container-c6f75f68>.gb-inside-container{padding:0}.gb-grid-wrapper>.gb-grid-column-c6f75f68{width:20%}.gb-container-a7dbdbe4{margin:60px 0 0;border-width:1px 0 0;border-style:solid;border-color:#fff}.gb-container-a7dbdbe4>.gb-inside-container{padding:60px 0;max-width:810px;margin-left:auto;margin-right:auto}.gb-container-ca60e5b7>.gb-inside-container{padding:0}.gb-grid-wrapper>.gb-grid-column-ca60e5b7{width:50%}.gb-container-94d49bbe>.gb-inside-container{padding:0}.gb-grid-wrapper>.gb-grid-column-94d49bbe{width:50%}.gb-grid-wrapper{display:flex;flex-wrap:wrap}.gb-grid-wrapper>.gb-grid-column>.gb-container{display:flex;flex-direction:column;height:100%}.gb-grid-column{box-sizing:border-box}.gb-grid-wrapper .wp-block-image{margin-bottom:0}.gb-grid-wrapper-cb0c0ede{align-items:center;margin-left:-80px}.gb-grid-wrapper-cb0c0ede>.gb-grid-column{padding-left:80px}.gb-grid-wrapper-76c91f39{margin-left:-30px}.gb-grid-wrapper-76c91f39>.gb-grid-column{padding-left:30px}.gb-icon{display:inline-flex;line-height:0}.gb-icon svg{height:1em;width:1em;fill:currentColor}.gb-highlight{background:none;color:unset}h3.gb-headline-4fefe116{color:#fff}p.gb-headline-2f407fe6{color:#fff;padding:0 100px 0 0}p.gb-headline-1e1d5f47{color:#fff;font-size:17px}.gb-button-wrapper{display:flex;flex-wrap:wrap;align-items:flex-start;justify-content:flex-start;clear:both}.gb-button-wrapper-b856ffad{margin:30px 0 0}.gb-button-wrapper-dc6e9c0a{justify-content:flex-end}.gb-button-wrapper-848592a5{justify-content:flex-end}.gb-button-wrapper .gb-button{display:inline-flex;align-items:center;justify-content:center;text-align:center;text-decoration:none;transition:.2s background-color ease-in-out,.2s color ease-in-out,.2s border-color ease-in-out,.2s opacity ease-in-out,.2s box-shadow ease-in-out}.gb-button-wrapper .gb-button .gb-icon{align-items:center}.gb-button-wrapper a.gb-button-ad8120e7,.gb-button-wrapper a.gb-button-ad8120e7:visited{color:#fff;font-weight:600;padding:10px 20px;border-radius:2px;margin:0 20px 0 0;border-width:3px;border-style:solid;border-color:#fff}.gb-button-wrapper a.gb-button-ad8120e7:hover,.gb-button-wrapper a.gb-button-ad8120e7:active,.gb-button-wrapper a.gb-button-ad8120e7:focus{background-color:rgba(98,18,179,0);color:#f2f5fa;border-color:rgba(242,245,250,.8)}.gb-button-wrapper a.gb-button-7f7555a4,.gb-button-wrapper a.gb-button-7f7555a4:visited{color:#fff;font-size:17px;margin:0 30px 0 0}.gb-button-wrapper a.gb-button-7f7555a4:hover,.gb-button-wrapper a.gb-button-7f7555a4:active,.gb-button-wrapper a.gb-button-7f7555a4:focus{color:#f2f5fa}.gb-button-wrapper a.gb-button-5161e67f,.gb-button-wrapper a.gb-button-5161e67f:visited{color:#fff;font-size:17px;margin:0 30px 0 0}.gb-button-wrapper a.gb-button-5161e67f:hover,.gb-button-wrapper a.gb-button-5161e67f:active,.gb-button-wrapper a.gb-button-5161e67f:focus{color:#f2f5fa}@media (max-width:1024px){.gb-grid-wrapper>.gb-grid-column-a0a081ed{width:100%}.gb-grid-wrapper>.gb-grid-column-ff2498dc{width:50%}.gb-grid-wrapper>.gb-grid-column-c6f75f68{width:50%}.gb-grid-wrapper-cb0c0ede>.gb-grid-column{padding-bottom:40px}p.gb-headline-2f407fe6{padding-right:0}.gb-button-wrapper-dc6e9c0a{justify-content:flex-end}}@media (max-width:1024px) and (min-width:768px){.gb-grid-wrapper>div.gb-grid-column-ff2498dc{padding-bottom:0}.gb-grid-wrapper>div.gb-grid-column-c6f75f68{padding-bottom:0}}@media (max-width:767px){.gb-grid-wrapper>.gb-grid-column{width:100%}.gb-grid-wrapper>div.gb-grid-column-c6f75f68{padding-bottom:0}.gb-button-wrapper-dc6e9c0a{justify-content:flex-start}.gb-button-wrapper-848592a5{justify-content:flex-start}.gb-button-wrapper a.gb-button-ad8120e7{margin-bottom:20px}}</style><link href=\"https://bergaya.id/wp-content/uploads/2020/04/cropped-b-icon-png-6-32x32.png\" rel=\"icon\" sizes=\"32x32\"/><link href=\"https://bergaya.id/wp-content/uploads/2020/04/cropped-b-icon-png-6-192x192.png\" rel=\"icon\" sizes=\"192x192\"/><link href=\"https://bergaya.id/wp-content/uploads/2020/04/cropped-b-icon-png-6-180x180.png\" rel=\"apple-touch-icon\"/><meta content=\"https://bergaya.id/wp-content/uploads/2020/04/cropped-b-icon-png-6-270x270.png\" name=\"msapplication-TileImage\"/><style id=\"wp-custom-css\">.author-box{padding:15px 10px 10px;margin-bottom:5px;margin-top:20px;border-radius:1em;box-shadow:0 12px 20px -10px rgba(0,0,0,.3)}.separate-containers .inside-article,.separate-containers .comments-area,.separate-containers .page-header,.one-container .container,.separate-containers .paging-navigation,.inside-page-header{color:#2f2d2d;background-color:#fff}.avatar{border-radius:100%;width:40px}.entry-meta-info{display:block}</style><style id=\"kirki-inline-styles\"></style></head><body class=\"post-template-default single single-post postid-3202 single-format-standard wp-embed-responsive post-image-below-header post-image-aligned-center sticky-menu-fade no-sidebar nav-below-header separate-containers contained-header active-footer-widgets-3 nav-search-enabled nav-aligned-right header-aligned-left dropdown-hover featured-image-active\" itemscope=\"\" itemtype=\"https://schema.org/Blog\"> <a class=\"screen-reader-text skip-link\" href=\"#content\" title=\"Skip to content\">Skip to content</a><nav class=\"has-branding main-navigation sub-menu-left\" id=\"site-navigation\" itemscope=\"\" itemtype=\"https://schema.org/SiteNavigationElement\"><div class=\"inside-navigation\"><div class=\"navigation-branding\"><p class=\"main-title\" itemprop=\"headline\"> <a href=\"https://bergaya.id/\" rel=\"home\"> Bergaya.ID </a></p></div><form action=\"https://bergaya.id/\" class=\"search-form navigation-search\" method=\"get\"> <input class=\"search-field\" name=\"s\" title=\"Search\" type=\"search\" value=\"\"/></form><div class=\"mobile-bar-items\"> <span class=\"search-item\"> <a aria-label=\"Open Search Bar\" href=\"#\"> </a> </span></div> <button aria-controls=\"primary-menu\" aria-expanded=\"false\" class=\"menu-toggle\"> <span class=\"mobile-menu\">Menu</span> </button><div class=\"main-nav\" id=\"primary-menu\"><ul class=\" menu sf-menu\" id=\"menu-menu-1\"><li class=\"menu-item menu-item-type-custom menu-item-object-custom menu-item-home menu-item-2944\" id=\"menu-item-2944\"><a href=\"https://bergaya.id/\">Beranda</a></li><li class=\"menu-item menu-item-type-taxonomy menu-item-object-category menu-item-4049\" id=\"menu-item-4049\"><a href=\"https://bergaya.id/fashion/\">Fashion</a></li><li class=\"menu-item menu-item-type-taxonomy menu-item-object-category menu-item-4050\" id=\"menu-item-4050\"><a href=\"https://bergaya.id/wedding/\">Wedding</a></li><li class=\"menu-item menu-item-type-taxonomy menu-item-object-category menu-item-has-children menu-item-5691\" id=\"menu-item-5691\"><a href=\"https://bergaya.id/tips/\">Tips<span class=\"dropdown-menu-toggle\" role=\"presentation\"></span></a><ul class=\"sub-menu\"><li class=\"menu-item menu-item-type-taxonomy menu-item-object-category menu-item-5692\" id=\"menu-item-5692\"><a href=\"https://bergaya.id/tips/rumah/\">Rumah</a></li></ul></li><li class=\"menu-item menu-item-type-taxonomy menu-item-object-category menu-item-5206\" id=\"menu-item-5206\"><a href=\"https://bergaya.id/hubungan/\">Hubungan</a></li><li class=\"menu-item menu-item-type-taxonomy menu-item-object-category menu-item-has-children menu-item-5207\" id=\"menu-item-5207\"><a href=\"https://bergaya.id/inspirasi/\">Inspirasi<span class=\"dropdown-menu-toggle\" role=\"presentation\"></span></a><ul class=\"sub-menu\"><li class=\"menu-item menu-item-type-taxonomy menu-item-object-category menu-item-5891\" id=\"menu-item-5891\"><a href=\"https://bergaya.id/inspirasi/sukses/\">Sukses</a></li><li class=\"menu-item menu-item-type-taxonomy menu-item-object-category menu-item-5892\" id=\"menu-item-5892\"><a href=\"https://bergaya.id/inspirasi/tips-inspirasi/\">Tips</a></li><li class=\"menu-item menu-item-type-taxonomy menu-item-object-category menu-item-6292\" id=\"menu-item-6292\"><a href=\"https://bergaya.id/inspirasi/ucapan/\">Ucapan</a></li><li class=\"menu-item menu-item-type-taxonomy menu-item-object-category menu-item-7975\" id=\"menu-item-7975\"><a href=\"https://bergaya.id/inspirasi/contoh-surat/\">Contoh Surat</a></li></ul></li><li class=\"menu-item menu-item-type-taxonomy menu-item-object-category menu-item-has-children menu-item-5551\" id=\"menu-item-5551\"><a href=\"https://bergaya.id/hiburan/\">Hiburan<span class=\"dropdown-menu-toggle\" role=\"presentation\"></span></a><ul class=\"sub-menu\"><li class=\"menu-item menu-item-type-taxonomy menu-item-object-category menu-item-6777\" id=\"menu-item-6777\"><a href=\"https://bergaya.id/hiburan/drama-korea/\">Drama Korea</a></li><li class=\"menu-item menu-item-type-taxonomy menu-item-object-category menu-item-6778\" id=\"menu-item-6778\"><a href=\"https://bergaya.id/hiburan/film-indonesia/\">Film Indonesia</a></li></ul></li><li class=\"menu-item menu-item-type-taxonomy menu-item-object-category menu-item-8150\" id=\"menu-item-8150\"><a href=\"https://bergaya.id/teknologi/\">Teknologi</a></li><li class=\"search-item menu-item-align-right\"><a aria-label=\"Open Search Bar\" href=\"#\"></a></li></ul></div></div></nav><div class=\"site grid-container container hfeed grid-parent\" id=\"page\"><div class=\"site-content\" id=\"content\"><div class=\"content-area grid-parent mobile-grid-100 grid-100 tablet-grid-100\" id=\"primary\"><main class=\"site-main\" id=\"main\"><article class=\"post-3202 post type-post status-publish format-standard has-post-thumbnail hentry category-batik infinite-scroll-item\" id=\"post-3202\" itemscope=\"\" itemtype=\"https://schema.org/CreativeWork\"><div class=\"inside-article\"><header class=\"entry-header\"> <span><span><a href=\"https://bergaya.id/\">Home</a> » <span><a href=\"https://bergaya.id/fashion/\">Fashion</a> » <span><a href=\"https://bergaya.id/fashion/batik/\">Batik</a> » <span aria-current=\"page\" class=\"breadcrumb_last\">Batik Kalimantan</span></span></span></span></span><h1 class=\"entry-title\" itemprop=\"headline\">Batik Kalimantan</h1><div class=\"entry-meta\"> <span class=\"posted-on\"><time class=\"entry-date published\" datetime=\"2021-08-12T22:39:35+07:00\" itemprop=\"datePublished\">August 12, 2021</time></span> <span class=\"byline\">by <span class=\"author vcard\" itemprop=\"author\" itemscope=\"\" itemtype=\"https://schema.org/Person\"><a class=\"url fn n\" href=\"https://bergaya.id/author/restyaprilia/\" itemprop=\"url\" rel=\"author\" title=\"View all posts by Resty Aprilia\"><span class=\"author-name\" itemprop=\"name\">Resty Aprilia</span></a></span></span></div></header><div class=\"featured-image page-header-image-single \"> <img alt=\"Motif Batik Kalimantan Dayak\" class=\"attachment-full size-full\" height=\"1314\" itemprop=\"image\" loading=\"lazy\" sizes=\"(max-width: 1600px) 100vw, 1600px\" src=\"https://bergaya.id/wp-content/uploads/2020/03/Motif-Batik-Kalimantan-Dayak.jpg\" srcset=\"https://bergaya.id/wp-content/uploads/2020/03/Motif-Batik-Kalimantan-Dayak.jpg 1600w, https://bergaya.id/wp-content/uploads/2020/03/Motif-Batik-Kalimantan-Dayak-300x246.jpg 300w, https://bergaya.id/wp-content/uploads/2020/03/Motif-Batik-Kalimantan-Dayak-768x631.jpg 768w, https://bergaya.id/wp-content/uploads/2020/03/Motif-Batik-Kalimantan-Dayak-1024x841.jpg 1024w\" width=\"1600\"/></div><div class=\"entry-content\" itemprop=\"text\"><div class=\"b496d133757657c9ec6dfc152a2098dd\" data-index=\"1\" style=\"float: none; margin:0px 0 0px 0; text-align:center;\"> <script async=\"\" crossorigin=\"anonymous\" src=\"https://pagead2.googlesyndication.com/pagead/js/adsbygoogle.js?client=ca-pub-9277707181105853\"></script> <ins class=\"adsbygoogle\" data-ad-client=\"ca-pub-9277707181105853\" data-ad-slot=\"5081534001\" style=\"display:inline-block;width:336px;height:280px\"></ins> <script>(adsbygoogle = window.adsbygoogle || []).push({});</script> </div><p><strong>Batik Kalimantan</strong> – Berbicara soal batik, warisan budaya ini telah tersebar di seluruh nusantara dengan kekhasan daerah masing-masing. Berbeda dengan mayoritas batik Jawa yang terkesan kalem dan anggun, batik asal Kalimantan lebih ekspresif dalam menampilkan warna-warna terang.</p><div class=\"b496d133757657c9ec6dfc152a2098dd\" data-index=\"2\" style=\"float: none; margin:0px 0 0px 0; text-align:center;\"> <script async=\"\" src=\"https://pagead2.googlesyndication.com/pagead/js/adsbygoogle.js\"></script> <ins class=\"adsbygoogle\" data-ad-client=\"ca-pub-9277707181105853\" data-ad-format=\"auto\" data-ad-slot=\"3864946757\" data-full-width-responsive=\"true\" style=\"display:block\"></ins> <script>(adsbygoogle = window.adsbygoogle || []).push({});</script> </div><p>Agar kamu lebih mengerti tentang seluk beluk <a href=\"https://bergaya.id/batik-kalimantan/\">batik Kalimantan</a>, sebaiknya simak uraian berikut ini.</p><div class=\"b496d133757657c9ec6dfc152a2098dd\" data-index=\"3\" style=\"float: none; margin:0px 0 0px 0; text-align:center;\"> <script async=\"\" src=\"https://pagead2.googlesyndication.com/pagead/js/adsbygoogle.js\"></script> <ins class=\"adsbygoogle\" data-ad-client=\"ca-pub-9277707181105853\" data-ad-slot=\"9220926313\" style=\"display:inline-block;width:300px;height:600px\"></ins> <script>(adsbygoogle = window.adsbygoogle || []).push({});</script> </div><div class=\"no_bullets\" id=\"toc_container\"><p class=\"toc_title\">Konten</p><ul class=\"toc_list\"><li><a href=\"#Motif_Batik_Kalimantan\">Motif Batik Kalimantan</a><ul><li><a href=\"#1_Dayak\">1. Dayak</a></li><li><a href=\"#2_Batik_Shaho\">2. Batik Shaho</a></li><li><a href=\"#3_Motif_Empiek\">3. Motif Empiek</a></li><li><a href=\"#4_Benang_Bintik\">4. Benang Bintik</a></li><li><a href=\"#5_Jajumputan\">5. Jajumputan</a></li><li><a href=\"#6_Naga_Balimbur\">6. Naga Balimbur</a></li><li><a href=\"#7_Batik_Bayam_Raja\">7. Batik Bayam Raja</a></li><li><a href=\"#8_Batik_Daun_Jaruju\">8. Batik Daun Jaruju</a></li><li><a href=\"#9_Kambang_Tampuk_Manggis\">9. Kambang Tampuk Manggis</a></li><li><a href=\"#10_Batang_Garing\">10. Batang Garing</a></li><li><a href=\"#11_Batik_Etnis_Melayu_Tradisional\">11. Batik Etnis Melayu Tradisional</a></li><li><a href=\"#12_Burung_Enggang\">12. Burung Enggang</a></li><li><a href=\"#13_Tidayu\">13. Tidayu</a></li><li><a href=\"#14_Kembang_Kenanga\">14. Kembang Kenanga</a></li><li><a href=\"#15_Motif_Etnis_Melayu\">15. Motif Etnis Melayu</a></li></ul></li><li><a href=\"#Model_Baju_Batik_Kalimantan\">Model Baju Batik Kalimantan</a></li></ul></div><h2><span id=\"Motif_Batik_Kalimantan\">Motif Batik Kalimantan</span></h2><p>Batik asli Kalimantan dulunya menggunakan serat binatang serta kapas sebagai media dalam pembuatan kain. Namun seiring waktu, masyarakat mulai beralih dan memanfaatkan material non-kapas seperti rayon, sutera, polyester, dan lainnya.</p><p>Corak yang disajikan dalam batik asli Kalimantan pun cukup berbeda jika dibandingkan batik Jawa. Untuk lebih jelasnya, kenali beberapa model batik berikut ini :</p><h3><span id=\"1_Dayak\">1. Dayak</span></h3><figure aria-describedby=\"caption-attachment-3204\" class=\"wp-caption aligncenter\" id=\"attachment_3204\" style=\"width: 1590px\"><img alt=\"Motif Batik Kalimantan Dayak\" class=\"size-full wp-image-3204\" height=\"1314\" loading=\"lazy\" sizes=\"(max-width: 1600px) 100vw, 1600px\" src=\"https://bergaya.id/wp-content/uploads/2020/03/Motif-Batik-Kalimantan-Dayak.jpg\" srcset=\"https://bergaya.id/wp-content/uploads/2020/03/Motif-Batik-Kalimantan-Dayak.jpg 1600w, https://bergaya.id/wp-content/uploads/2020/03/Motif-Batik-Kalimantan-Dayak-300x246.jpg 300w, https://bergaya.id/wp-content/uploads/2020/03/Motif-Batik-Kalimantan-Dayak-768x631.jpg 768w, https://bergaya.id/wp-content/uploads/2020/03/Motif-Batik-Kalimantan-Dayak-1024x841.jpg 1024w\" width=\"1600\"/><figcaption class=\"wp-caption-text\" id=\"caption-attachment-3204\"><div class=\"b496d133757657c9ec6dfc152a2098dd\" data-index=\"4\" style=\"float: none; margin:0px 0 0px 0; text-align:center;\"><div id=\"M721036ScriptRootC1182754\"></div> </div> pinterest.com</figcaption></figure><p>Batik model ini lebih menekankan coraknya pada unsur-unsur berbau alam, religius, maupun hal lain yang berkaitan dengan suku tersebut.</p><p>Karenanya, kamu tak perlu heran jika corak yang diusung sangatlah unik dan berbeda dengan yang lain. Salah satunya terlihat seperti contoh di atas yang menggambarkan senjata suku asli Kalimantan tersebut.</p><h3><span id=\"2_Batik_Shaho\">2. Batik Shaho</span></h3><figure aria-describedby=\"caption-attachment-3205\" class=\"wp-caption aligncenter\" id=\"attachment_3205\" style=\"width: 1590px\"><img alt=\"Motif Batik Kalimantan Shaho\" class=\"size-full wp-image-3205\" height=\"1200\" loading=\"lazy\" sizes=\"(max-width: 1600px) 100vw, 1600px\" src=\"https://bergaya.id/wp-content/uploads/2020/03/Motif-Batik-Kalimantan-Shaho.jpg\" srcset=\"https://bergaya.id/wp-content/uploads/2020/03/Motif-Batik-Kalimantan-Shaho.jpg 1600w, https://bergaya.id/wp-content/uploads/2020/03/Motif-Batik-Kalimantan-Shaho-300x225.jpg 300w, https://bergaya.id/wp-content/uploads/2020/03/Motif-Batik-Kalimantan-Shaho-768x576.jpg 768w, https://bergaya.id/wp-content/uploads/2020/03/Motif-Batik-Kalimantan-Shaho-1024x768.jpg 1024w\" width=\"1600\"/><figcaption class=\"wp-caption-text\" id=\"caption-attachment-3205\">okezone.com</figcaption></figure><p>Batik shaho menjadi salah satu yang paling terkenal di daerah asalnya, Kalimantan Timur. Umumnya corak yang disuguhkan berasal dari inspirasi berbau alam, seperti liukan akar ataupun ranting pohon. Bisa pula dalam wujud corak spiral, patung, ataupun lingkaran. Kamu akan menemukannya dalam balutan warna mencolok yang memberi kesan lebih hidup.</p><h3><span id=\"3_Motif_Empiek\">3. Motif Empiek</span></h3><figure aria-describedby=\"caption-attachment-3206\" class=\"wp-caption aligncenter\" id=\"attachment_3206\" style=\"width: 790px\"><img alt=\"Batik Empiek Kalimantan\" class=\"size-full wp-image-3206\" height=\"450\" loading=\"lazy\" sizes=\"(max-width: 800px) 100vw, 800px\" src=\"https://bergaya.id/wp-content/uploads/2020/03/Batik-Empiek-Kalimantan.jpg\" srcset=\"https://bergaya.id/wp-content/uploads/2020/03/Batik-Empiek-Kalimantan.jpg 800w, https://bergaya.id/wp-content/uploads/2020/03/Batik-Empiek-Kalimantan-300x169.jpg 300w, https://bergaya.id/wp-content/uploads/2020/03/Batik-Empiek-Kalimantan-768x432.jpg 768w\" width=\"800\"/><figcaption class=\"wp-caption-text\" id=\"caption-attachment-3206\">pinterest.com</figcaption></figure><p>Masih dari daerah Kaltim, khususnya Balikpapan, ada batik terkenal yang bernama empiek. Kamu bisa menjumpainya dalam berbagai corak yang rapi dan presisi. Batik ini juga sering hadir dalam balutan warna cerah dengan satu warna yang lebih mendominasi dibanding lainnya.</p><div style=\"background: #FFFFCC; text-decoration: none; border: 1px solid #E9E9E9; width: fixed; height: fixed; margin-bottom: 10px; padding: 10px; position: relative;\">Nggak kalah menarik, <a href=\"https://bergaya.id/batik-parang/\">batik parang</a> juga menjadi salah satu <a href=\"https://bergaya.id/motif-batik/\">motif batik</a> khas Indonesia yang banyak diburu pecinta batik.</div><h3><span id=\"4_Benang_Bintik\">4. Benang Bintik</span></h3><figure aria-describedby=\"caption-attachment-3207\" class=\"wp-caption aligncenter\" id=\"attachment_3207\" style=\"width: 663px\"><img alt=\"Batik Kalimantan\" class=\"size-full wp-image-3207\" height=\"379\" loading=\"lazy\" sizes=\"(max-width: 673px) 100vw, 673px\" src=\"https://bergaya.id/wp-content/uploads/2020/03/Batik-Kalimantan.jpg\" srcset=\"https://bergaya.id/wp-content/uploads/2020/03/Batik-Kalimantan.jpg 673w, https://bergaya.id/wp-content/uploads/2020/03/Batik-Kalimantan-300x169.jpg 300w\" width=\"673\"/><figcaption class=\"wp-caption-text\" id=\"caption-attachment-3207\">desainbusanaterbaru.blogspot.com</figcaption></figure><p>Batik benang bintik sebenarnya merupakan warisan nenek moyang yang mengakulturasi seni ukir ke media berupa kain. Makanya, kamu jangan heran jika corak yang digambarkan banyak berwujud arca, prasasti, dan sebagainya. Salah satu ciri khas batik asal Kalimantan Tengah ini adalah adanya bintik-bintik di sepanjang kain.</p><h3><span id=\"5_Jajumputan\">5. Jajumputan</span></h3><figure aria-describedby=\"caption-attachment-3208\" class=\"wp-caption aligncenter\" id=\"attachment_3208\" style=\"width: 630px\"><img alt=\"Motif Batik Kalimantan\" class=\"size-full wp-image-3208\" height=\"479\" loading=\"lazy\" sizes=\"(max-width: 640px) 100vw, 640px\" src=\"https://bergaya.id/wp-content/uploads/2020/03/Motif-Batik-Kalimantan.jpg\" srcset=\"https://bergaya.id/wp-content/uploads/2020/03/Motif-Batik-Kalimantan.jpg 640w, https://bergaya.id/wp-content/uploads/2020/03/Motif-Batik-Kalimantan-300x225.jpg 300w\" width=\"640\"/><figcaption class=\"wp-caption-text\" id=\"caption-attachment-3208\">desainbusanaterbaru.blogspot.com</figcaption></figure><p>Tampilan batik jajumputan biasanya lebih modern dengan desain minimalis namun estetis. Biasanya corak yang diusung berupa pola geometris yang teratur. Batik jenis ini kerap disandingkan dengan batik sasirangan, walau sebenarnya keduanya tak memiliki kaitan kuat satu sama lain.</p><p>Karena tampilannya yang elegan dan tak berlebihan, batik jenis ini banyak digemari berbagai kalangan. Lihat saja motif batik jajumputan di atas kain hitam nan simple ini. Tampak elegan tanpa perlu berlebihan, kan?</p><h3><span id=\"6_Naga_Balimbur\">6. Naga Balimbur</span></h3><figure aria-describedby=\"caption-attachment-3209\" class=\"wp-caption aligncenter\" id=\"attachment_3209\" style=\"width: 486px\"><img alt=\"Gambar Batik Kalimantan Naga Balimbur\" class=\"size-full wp-image-3209\" height=\"750\" loading=\"lazy\" sizes=\"(max-width: 496px) 100vw, 496px\" src=\"https://bergaya.id/wp-content/uploads/2020/03/Gambar-Batik-Kalimantan-Naga-Balimbur.jpg\" srcset=\"https://bergaya.id/wp-content/uploads/2020/03/Gambar-Batik-Kalimantan-Naga-Balimbur.jpg 496w, https://bergaya.id/wp-content/uploads/2020/03/Gambar-Batik-Kalimantan-Naga-Balimbur-198x300.jpg 198w\" width=\"496\"/><figcaption class=\"wp-caption-text\" id=\"caption-attachment-3209\">tekooneko.com</figcaption></figure><p>Seperti namanya, batik naga balimbur mengadopsi coraknya dari bentuk tubuh naga. Hanya sekedar tubuhnya saja, tanpa kepala ataupun ekor.</p><p>Kamu bisa melihatnya dalam bentuk corak yang meliuk-liuk dan rumit, atau dalam garis lengkung sederhana. Tak hanya menggunakan teknik lukis dalam pembuatannya, ada beberapa jenis batik naga balimbur yang lebih mengandalkan teknik celup.</p><h3><span id=\"7_Batik_Bayam_Raja\">7. Batik Bayam Raja</span></h3><figure aria-describedby=\"caption-attachment-3210\" class=\"wp-caption aligncenter\" id=\"attachment_3210\" style=\"width: 631px\"><img alt=\"Batik Kalimantan Timur Bayam Raja\" class=\"size-full wp-image-3210\" height=\"430\" loading=\"lazy\" sizes=\"(max-width: 641px) 100vw, 641px\" src=\"https://bergaya.id/wp-content/uploads/2020/03/Batik-Kalimantan-Timur-Bayam-Raja.jpg\" srcset=\"https://bergaya.id/wp-content/uploads/2020/03/Batik-Kalimantan-Timur-Bayam-Raja.jpg 641w, https://bergaya.id/wp-content/uploads/2020/03/Batik-Kalimantan-Timur-Bayam-Raja-300x201.jpg 300w\" width=\"641\"/><figcaption class=\"wp-caption-text\" id=\"caption-attachment-3210\">tekooneko.com</figcaption></figure><p>Sesui nama yang disandangnya, batik ini terinspirasi dari tanaman bayam raja.</p><p>Pada dasarnya penampakan batik ini menyerupai naga balimbur, namun dengan pola yang tak begitu teratur. Polanya terwujud dalam garis lengkung naik turun. Biasanya batik jenis ini digunakan dalam keseharian di masyarakat.</p><h3><span id=\"8_Batik_Daun_Jaruju\">8. Batik Daun Jaruju</span></h3><figure aria-describedby=\"caption-attachment-3211\" class=\"wp-caption aligncenter\" id=\"attachment_3211\" style=\"width: 1590px\"><img alt=\"Batik Khas Kalimantan Timur Daun Jaruju\" class=\"size-full wp-image-3211\" height=\"999\" loading=\"lazy\" sizes=\"(max-width: 1600px) 100vw, 1600px\" src=\"https://bergaya.id/wp-content/uploads/2020/03/Batik-Khas-Kalimantan-Timur-Daun-Jaruju.jpg\" srcset=\"https://bergaya.id/wp-content/uploads/2020/03/Batik-Khas-Kalimantan-Timur-Daun-Jaruju.jpg 1600w, https://bergaya.id/wp-content/uploads/2020/03/Batik-Khas-Kalimantan-Timur-Daun-Jaruju-300x187.jpg 300w, https://bergaya.id/wp-content/uploads/2020/03/Batik-Khas-Kalimantan-Timur-Daun-Jaruju-768x480.jpg 768w, https://bergaya.id/wp-content/uploads/2020/03/Batik-Khas-Kalimantan-Timur-Daun-Jaruju-1024x639.jpg 1024w\" width=\"1600\"/><figcaption class=\"wp-caption-text\" id=\"caption-attachment-3211\">garissihijau.blogspot.com</figcaption></figure><p>Sama seperti batik bayam raja, penamaan batik daun jajuru terinspirasi pada corak di dalamnya. Corak batik ini memiliki bentuk unik menyerupai daun jajuru yang memiliki ujung tajam. Menurut kepercayaan masyarakat sekitar, daun jajuru ini mempunyai makna penting sebagai tolak bala untuk menangkal musibah.</p><h3><span id=\"9_Kambang_Tampuk_Manggis\">9. Kambang Tampuk Manggis</span></h3><figure aria-describedby=\"caption-attachment-3212\" class=\"wp-caption aligncenter\" id=\"attachment_3212\" style=\"width: 1590px\"><img alt=\"Contoh Batik Kalimantan Kembang Tampuk Manggis\" class=\"size-full wp-image-3212\" height=\"813\" loading=\"lazy\" sizes=\"(max-width: 1600px) 100vw, 1600px\" src=\"https://bergaya.id/wp-content/uploads/2020/03/Contoh-Batik-Kalimantan-Kembang-Tampuk-Manggis.jpg\" srcset=\"https://bergaya.id/wp-content/uploads/2020/03/Contoh-Batik-Kalimantan-Kembang-Tampuk-Manggis.jpg 1600w, https://bergaya.id/wp-content/uploads/2020/03/Contoh-Batik-Kalimantan-Kembang-Tampuk-Manggis-300x152.jpg 300w, https://bergaya.id/wp-content/uploads/2020/03/Contoh-Batik-Kalimantan-Kembang-Tampuk-Manggis-768x390.jpg 768w, https://bergaya.id/wp-content/uploads/2020/03/Contoh-Batik-Kalimantan-Kembang-Tampuk-Manggis-1024x520.jpg 1024w\" width=\"1600\"/><figcaption class=\"wp-caption-text\" id=\"caption-attachment-3212\">garissihijau.blogspot.com</figcaption></figure><p>Berbeda dengan batik yang umumnya dilukis manual, batik kambang tampuk manggis biasanya dibuat dengan teknik bernama tusuk jejulur.</p><p>Lalu, kain diikat menggunakan rafia untuk kemudian dicelupkan dalam warna. Bisa pula dibuat dengan teknik cap agar lebih praktis dan mendapatkan hasil simetris. Batik ini bisa berwujud dalam warna gonjreng maupun kalem.</p><h3><span id=\"10_Batang_Garing\">10. Batang Garing</span></h3><figure aria-describedby=\"caption-attachment-3213\" class=\"wp-caption aligncenter\" id=\"attachment_3213\" style=\"width: 1270px\"><img alt=\"Model Batik Kalimantan Motif Batang Garing\" class=\"size-full wp-image-3213\" height=\"960\" loading=\"lazy\" sizes=\"(max-width: 1280px) 100vw, 1280px\" src=\"https://bergaya.id/wp-content/uploads/2020/03/Model-Batik-Kalimantan-Motif-Batang-Garing.jpg\" srcset=\"https://bergaya.id/wp-content/uploads/2020/03/Model-Batik-Kalimantan-Motif-Batang-Garing.jpg 1280w, https://bergaya.id/wp-content/uploads/2020/03/Model-Batik-Kalimantan-Motif-Batang-Garing-300x225.jpg 300w, https://bergaya.id/wp-content/uploads/2020/03/Model-Batik-Kalimantan-Motif-Batang-Garing-768x576.jpg 768w, https://bergaya.id/wp-content/uploads/2020/03/Model-Batik-Kalimantan-Motif-Batang-Garing-1024x768.jpg 1024w\" width=\"1280\"/><figcaption class=\"wp-caption-text\" id=\"caption-attachment-3213\">pinterest.com</figcaption></figure><p>Batik batang garing merupakan salah satu corak klasik yang hanya melibatkan dua warna di dalamnya. Meski terlihat sederhana, tapi batik ini memiliki makna yang dalam bagi masyarakatnya.</p><p>Suku Kalimantan umumnya menganggap bahwa batang garing menggambarkan sumber semua kehidupan. Dalam kepercayaannya, batang garing melambangkan keharmonisan dan keseimbangan hidup.</p><h3><span id=\"11_Batik_Etnis_Melayu_Tradisional\">11. Batik Etnis Melayu Tradisional</span></h3><figure aria-describedby=\"caption-attachment-3214\" class=\"wp-caption aligncenter\" id=\"attachment_3214\" style=\"width: 790px\"><img alt=\"Batik etnis melayu tradisional\" class=\"size-full wp-image-3214\" height=\"600\" loading=\"lazy\" sizes=\"(max-width: 800px) 100vw, 800px\" src=\"https://bergaya.id/wp-content/uploads/2020/03/Batik-etnis-melayu-tradisional.jpg\" srcset=\"https://bergaya.id/wp-content/uploads/2020/03/Batik-etnis-melayu-tradisional.jpg 800w, https://bergaya.id/wp-content/uploads/2020/03/Batik-etnis-melayu-tradisional-300x225.jpg 300w, https://bergaya.id/wp-content/uploads/2020/03/Batik-etnis-melayu-tradisional-768x576.jpg 768w\" width=\"800\"/><figcaption class=\"wp-caption-text\" id=\"caption-attachment-3214\">gpswisataindonesia.info</figcaption></figure><p>Corak pada batik etnis Melayu tradisional banyak dipengaruhi dari daerah asalnya, yakni Kalimantan Barat.</p><p>Tak heran, kamu akan lebih banyak menemukannya dalam warna cerah dan meriah. Umumnya, batik jenis ini dilukiskan pada kain sutera yang halus.</p><h3><span id=\"12_Burung_Enggang\">12. Burung Enggang</span></h3><figure aria-describedby=\"caption-attachment-3215\" class=\"wp-caption aligncenter\" id=\"attachment_3215\" style=\"width: 998px\"><img alt=\"Batik Kalimantan Motif Burung Enggang\" class=\"size-full wp-image-3215\" height=\"634\" loading=\"lazy\" sizes=\"(max-width: 1008px) 100vw, 1008px\" src=\"https://bergaya.id/wp-content/uploads/2020/03/Batik-Kalimantan-Motif-Burung-Enggang.png\" srcset=\"https://bergaya.id/wp-content/uploads/2020/03/Batik-Kalimantan-Motif-Burung-Enggang.png 1008w, https://bergaya.id/wp-content/uploads/2020/03/Batik-Kalimantan-Motif-Burung-Enggang-300x189.png 300w, https://bergaya.id/wp-content/uploads/2020/03/Batik-Kalimantan-Motif-Burung-Enggang-768x483.png 768w\" width=\"1008\"/><figcaption class=\"wp-caption-text\" id=\"caption-attachment-3215\">ilmunik.com</figcaption></figure><p>Dalam kepercayaan masyarakat Kalimantan, burung enggang dianggap suci dan keramat.</p><p>Untuk melestarikan kepercayaan tersebut, burung ini diusung menjadi salah satu corak khas asli Kalimantan. Tak jarang batik ini memadukan dengan corak lain agar tak terlihat monoton.</p><h3><span id=\"13_Tidayu\">13. Tidayu</span></h3><figure aria-describedby=\"caption-attachment-3216\" class=\"wp-caption aligncenter\" id=\"attachment_3216\" style=\"width: 758px\"><img alt=\"Batik Kalimantan Motif Tidayu\" class=\"size-full wp-image-3216\" height=\"1024\" loading=\"lazy\" sizes=\"(max-width: 768px) 100vw, 768px\" src=\"https://bergaya.id/wp-content/uploads/2020/03/Batik-Kalimantan-Motif-Tidayu.jpg\" srcset=\"https://bergaya.id/wp-content/uploads/2020/03/Batik-Kalimantan-Motif-Tidayu.jpg 768w, https://bergaya.id/wp-content/uploads/2020/03/Batik-Kalimantan-Motif-Tidayu-225x300.jpg 225w\" width=\"768\"/><figcaption class=\"wp-caption-text\" id=\"caption-attachment-3216\">infobatik.com</figcaption></figure><p>Batik tidayu dikenal mahal dibanding jenis batik lainnya dalam jajaran batik Kalimantan. Batik ini memadukan tiga budaya di dalamnya sekaligus.</p><p>Mulai dari Melayu, Dayak, serta Tionghoa. Meski banyak kalagan yang menirunya, namun batik tidayu asli memiliki harga yang cukup mahal.</p><h3><span id=\"14_Kembang_Kenanga\">14. Kembang Kenanga</span></h3><figure aria-describedby=\"caption-attachment-3217\" class=\"wp-caption aligncenter\" id=\"attachment_3217\" style=\"width: 990px\"><img alt=\"Batik Kalimantan Motif Kembang Kenanga\" class=\"size-full wp-image-3217\" height=\"1000\" loading=\"lazy\" sizes=\"(max-width: 1000px) 100vw, 1000px\" src=\"https://bergaya.id/wp-content/uploads/2020/03/Batik-Kalimantan-Motif-Kembang-Kenanga.jpg\" srcset=\"https://bergaya.id/wp-content/uploads/2020/03/Batik-Kalimantan-Motif-Kembang-Kenanga.jpg 1000w, https://bergaya.id/wp-content/uploads/2020/03/Batik-Kalimantan-Motif-Kembang-Kenanga-150x150.jpg 150w, https://bergaya.id/wp-content/uploads/2020/03/Batik-Kalimantan-Motif-Kembang-Kenanga-300x300.jpg 300w, https://bergaya.id/wp-content/uploads/2020/03/Batik-Kalimantan-Motif-Kembang-Kenanga-768x768.jpg 768w, https://bergaya.id/wp-content/uploads/2020/03/Batik-Kalimantan-Motif-Kembang-Kenanga-24x24.jpg 24w, https://bergaya.id/wp-content/uploads/2020/03/Batik-Kalimantan-Motif-Kembang-Kenanga-48x48.jpg 48w, https://bergaya.id/wp-content/uploads/2020/03/Batik-Kalimantan-Motif-Kembang-Kenanga-96x96.jpg 96w\" width=\"1000\"/><figcaption class=\"wp-caption-text\" id=\"caption-attachment-3217\">produkbanyumas.co.id</figcaption></figure><p>Secara umum, batik kembang kenanga hadir dalam bentuk elegan dan anggun layaknya kembang kenanga. Batik ini mengambil inspirasi dari bunga kenanga yang harum dan wangi.</p><p>Filosofinya menekankan agar si pemakai selalu menjadi orang bermanfaat bagi sekitarnya. Secara look, batik kenanga memiliki citra elegan yang cocok dikenakan baik laki-laki maupun perempuan.</p><div style=\"background: #ffffff; border: 1px solid #dddddd; border-radius: 10px; text-decoration: none; margin-bottom: 10px; padding: 10px; position: relative; text-align: center;\">Baca juga: <a href=\"https://bergaya.id/batik-mega-mendung/\">Batik Mega Mendung</a></div><h3><span id=\"15_Motif_Etnis_Melayu\">15. Motif Etnis Melayu</span></h3><figure aria-describedby=\"caption-attachment-3218\" class=\"wp-caption aligncenter\" id=\"attachment_3218\" style=\"width: 1014px\"><img alt=\"Motif Batik Kalimantan Timur\" class=\"size-full wp-image-3218\" height=\"768\" loading=\"lazy\" sizes=\"(max-width: 1024px) 100vw, 1024px\" src=\"https://bergaya.id/wp-content/uploads/2020/03/Motif-Batik-Kalimantan-Timur.jpg\" srcset=\"https://bergaya.id/wp-content/uploads/2020/03/Motif-Batik-Kalimantan-Timur.jpg 1024w, https://bergaya.id/wp-content/uploads/2020/03/Motif-Batik-Kalimantan-Timur-300x225.jpg 300w, https://bergaya.id/wp-content/uploads/2020/03/Motif-Batik-Kalimantan-Timur-768x576.jpg 768w\" width=\"1024\"/><figcaption class=\"wp-caption-text\" id=\"caption-attachment-3218\">gpswisataindonesia.info</figcaption></figure><p>Batik etnis Melayu kerap memakai kain sutera sebagai media lukisnya. Hal ini membuatnya makin mewah dan berkelas.</p><p>Terlebih corak yang dilukiskan menggabungkan unsur binatang dan bunga-bungaan dalam paduan yang pas. Karena semuanya tak berlebihan, tampilanmu pun akan terlihat mengesankan dan berwarna.</p><h2><span id=\"Model_Baju_Batik_Kalimantan\">Model Baju Batik Kalimantan</span></h2><p>Setiap batik dari daerah Kalimantan memiliki ciri khas tersendiri. Kalimantan Selatan terkenal akan batik khas Banuanya. Kalteng dengan benang bintik, Kalbar dengan batik Pontianak, dan Kaltim dengan batik Shaho. Tak ketinggalan pula Kalimantan Utara yang memiliki batik Tarakan.</p><p>Dengan ciri dan corak yang beragam tersebut, berbagai model pakaian bisa dihasilkan untuk menunjang penampilan.</p><p>Tak hanya untuk acara formal saja, kini batik juga bisa lebih luwas dikenakan pada acara-acara santai sekalipun. Sebagai bahan referensi, kamu bisa menilik model batik-batik yang mempesona untuk melengkapi koleksimu di rumah.</p><p><strong>1. Batik Pria Corak Bunga</strong></p><figure aria-describedby=\"caption-attachment-3219\" class=\"wp-caption aligncenter\" id=\"attachment_3219\" style=\"width: 740px\"><img alt=\"Batik Kalimantan Barat\" class=\"size-full wp-image-3219\" height=\"1083\" loading=\"lazy\" sizes=\"(max-width: 750px) 100vw, 750px\" src=\"https://bergaya.id/wp-content/uploads/2020/03/Batik-Kalimantan-Barat.jpg\" srcset=\"https://bergaya.id/wp-content/uploads/2020/03/Batik-Kalimantan-Barat.jpg 750w, https://bergaya.id/wp-content/uploads/2020/03/Batik-Kalimantan-Barat-208x300.jpg 208w, https://bergaya.id/wp-content/uploads/2020/03/Batik-Kalimantan-Barat-709x1024.jpg 709w\" width=\"750\"/><figcaption class=\"wp-caption-text\" id=\"caption-attachment-3219\">pinterest.com</figcaption></figure><p>Siapa bilang pria tak bisa memakai pakaian berbunga-bunga. Dengan komposisi dan pemilihan warna yang pas, corak bunga dalam batik malah justru akan memancarkan pesonamu dengan maksimal.</p><p>Lihat saja contoh batik warna khaki ini, indah sekali kan? Warna ini juga tergolong netral dan bisa kamu gunakan untuk berbagai momen, bahkan acara formal sekalipun. Harganya sekitar 90 ribuan saja lho.</p><p><strong>2. Batik Etnik dengan Corak Unik</strong></p><figure aria-describedby=\"caption-attachment-3220\" class=\"wp-caption aligncenter\" id=\"attachment_3220\" style=\"width: 1070px\"><img alt=\"Batik Kalimantan Selatan\" class=\"size-full wp-image-3220\" height=\"1349\" loading=\"lazy\" sizes=\"(max-width: 1080px) 100vw, 1080px\" src=\"https://bergaya.id/wp-content/uploads/2020/03/Batik-Kalimantan-Selatan.jpg\" srcset=\"https://bergaya.id/wp-content/uploads/2020/03/Batik-Kalimantan-Selatan.jpg 1080w, https://bergaya.id/wp-content/uploads/2020/03/Batik-Kalimantan-Selatan-240x300.jpg 240w, https://bergaya.id/wp-content/uploads/2020/03/Batik-Kalimantan-Selatan-768x959.jpg 768w, https://bergaya.id/wp-content/uploads/2020/03/Batik-Kalimantan-Selatan-820x1024.jpg 820w\" width=\"1080\"/><figcaption class=\"wp-caption-text\" id=\"caption-attachment-3220\">anantabatik.com</figcaption></figure><p>Untuk mengekspresikan diri akan kecintaanmu pada daerah yang ada di Indonesia, kamu bisa menunjukkannya dengan memakai batik etnik dengan corak unik.</p><p>Kesan patah-patah dari corak yang tergambar akan membuat tampilanmu makin nyentrik dan menarik. Untuk tampilan yang aman, sebaiknya kamu menghindari pemilihan warna yang terlalu kontras, pilihlah warna-warna netral saja.</p><p>Soal harga, batik bergaya etnik ini memang dibanderol lebih mahal dari pasaran jenis batik lainnnya. Maklum saja, batik ini menggunakan bahan kain tenun sehingga terlihat begitu orisinil. Siapkan saja kocek sekitar 100 ribu.</p><p><strong>3. Batik Tidayu Pria</strong></p><figure aria-describedby=\"caption-attachment-3221\" class=\"wp-caption aligncenter\" id=\"attachment_3221\" style=\"width: 752px\"><img alt=\"Batik Kalimantan Tengah\" class=\"size-full wp-image-3221\" height=\"1100\" loading=\"lazy\" sizes=\"(max-width: 762px) 100vw, 762px\" src=\"https://bergaya.id/wp-content/uploads/2020/03/Batik-Kalimantan-Tengah.jpg\" srcset=\"https://bergaya.id/wp-content/uploads/2020/03/Batik-Kalimantan-Tengah.jpg 762w, https://bergaya.id/wp-content/uploads/2020/03/Batik-Kalimantan-Tengah-208x300.jpg 208w, https://bergaya.id/wp-content/uploads/2020/03/Batik-Kalimantan-Tengah-709x1024.jpg 709w\" width=\"762\"/><figcaption class=\"wp-caption-text\" id=\"caption-attachment-3221\">jd.id</figcaption></figure><p>Batik tidayu dengan corak abstrak yang saling bertumpuk memberikanmu vibe yang kuat untuk menampakkan jiwa bebas yang kamu miliki. Ditambah warna orange segar yang menjadi dasarnya. Kamu pun bisa tampil necis dengan memadukan bawahan berwarna gelap, utamanya hitam untuk menetralkan tampilan.</p><p>Perpaduan budaya yang berbeda di dalam batik tidayu justru akan membuat tampilanmu mengesankan. Kamu bisa membeli batik ini pada rentang harga 70 ribuan saja.</p><p><strong>4. Batik Pria Corak Parang Geometris</strong></p><figure aria-describedby=\"caption-attachment-3222\" class=\"wp-caption aligncenter\" id=\"attachment_3222\" style=\"width: 752px\"><img alt=\"Motif Batik Kalimantan Barat\" class=\"size-full wp-image-3222\" height=\"1100\" loading=\"lazy\" sizes=\"(max-width: 762px) 100vw, 762px\" src=\"https://bergaya.id/wp-content/uploads/2020/03/Motif-Batik-Kalimantan-Barat.jpg\" srcset=\"https://bergaya.id/wp-content/uploads/2020/03/Motif-Batik-Kalimantan-Barat.jpg 762w, https://bergaya.id/wp-content/uploads/2020/03/Motif-Batik-Kalimantan-Barat-208x300.jpg 208w, https://bergaya.id/wp-content/uploads/2020/03/Motif-Batik-Kalimantan-Barat-709x1024.jpg 709w\" width=\"762\"/><figcaption class=\"wp-caption-text\" id=\"caption-attachment-3222\">inkuiri.com</figcaption></figure><p>Selain berlengan panjang, kamu pun bisa bergaya santai dengan batik berlengan pendek ini. Paduan corak parang dan kotak-kotak geometris membawa kesan berwibawa dan manly makin kentara.</p><p>Tak cuma membuat tampilanmu terlihat gagah, ternyata harga yang dipatok untuk kemeja batik ini cukuplah murah. Cukup bayarkan 50 ribuan saja.</p><p><strong>5. Batik Elegan Corak Single</strong></p><figure aria-describedby=\"caption-attachment-3223\" class=\"wp-caption aligncenter\" id=\"attachment_3223\" style=\"width: 790px\"><img alt=\"Batik Kalimantan Utara\" class=\"size-full wp-image-3223\" height=\"1201\" loading=\"lazy\" sizes=\"(max-width: 800px) 100vw, 800px\" src=\"https://bergaya.id/wp-content/uploads/2020/03/Batik-Kalimantan-Utara.jpg\" srcset=\"https://bergaya.id/wp-content/uploads/2020/03/Batik-Kalimantan-Utara.jpg 800w, https://bergaya.id/wp-content/uploads/2020/03/Batik-Kalimantan-Utara-200x300.jpg 200w, https://bergaya.id/wp-content/uploads/2020/03/Batik-Kalimantan-Utara-768x1153.jpg 768w, https://bergaya.id/wp-content/uploads/2020/03/Batik-Kalimantan-Utara-682x1024.jpg 682w\" width=\"800\"/><figcaption class=\"wp-caption-text\" id=\"caption-attachment-3223\">blibli.com</figcaption></figure><p>Menggunakan satu pokok corak saja dengan gradasi yang sama ternyata tidaklah membosankan. Malah, kamu bisa tampil elegan dan tak berlebihan.</p><p>Sekalipun mengusung tema floral, namun sentuhan gradasi warna yang dipilih membuatmu tampak menawan. Kamu bisa memilikinya dengan membayarkan harga sekitar 80 ribuan saja.</p><p><strong>6. Batik Floral Free Butterfly</strong></p><figure aria-describedby=\"caption-attachment-3224\" class=\"wp-caption aligncenter\" id=\"attachment_3224\" style=\"width: 752px\"><img alt=\"Batik Khas Kalimantan\" class=\"size-full wp-image-3224\" height=\"1100\" loading=\"lazy\" sizes=\"(max-width: 762px) 100vw, 762px\" src=\"https://bergaya.id/wp-content/uploads/2020/03/Batik-Khas-Kalimantan.jpg\" srcset=\"https://bergaya.id/wp-content/uploads/2020/03/Batik-Khas-Kalimantan.jpg 762w, https://bergaya.id/wp-content/uploads/2020/03/Batik-Khas-Kalimantan-208x300.jpg 208w, https://bergaya.id/wp-content/uploads/2020/03/Batik-Khas-Kalimantan-709x1024.jpg 709w\" width=\"762\"/><figcaption class=\"wp-caption-text\" id=\"caption-attachment-3224\">inkuiri.com</figcaption></figure><p>Sesuai namanya, batik ini mengombinasikan corak floral dengan kupu-kupu yang nampak bebas beterbangan. Tak melulu harus kemeja, outer batik ini bisa menyulap penampilanmu terlihat lebih formal dalam waktu sekejap.</p><p>Kamu hanya perlu memadu-padankannya dengan inner dan bawahan yang tepat. Untuk bahan yang agak tebal, kamu bisa membelinya di harga 90 ribuan.</p><p><strong>7. Batik Pria Corak Daun</strong></p><figure aria-describedby=\"caption-attachment-3225\" class=\"wp-caption aligncenter\" id=\"attachment_3225\" style=\"width: 752px\"><img alt=\"Motif Batik Dayak Kalimantan Barat\" class=\"size-full wp-image-3225\" height=\"1100\" loading=\"lazy\" sizes=\"(max-width: 762px) 100vw, 762px\" src=\"https://bergaya.id/wp-content/uploads/2020/03/Motif-Batik-Dayak-Kalimantan-Barat.jpg\" srcset=\"https://bergaya.id/wp-content/uploads/2020/03/Motif-Batik-Dayak-Kalimantan-Barat.jpg 762w, https://bergaya.id/wp-content/uploads/2020/03/Motif-Batik-Dayak-Kalimantan-Barat-208x300.jpg 208w, https://bergaya.id/wp-content/uploads/2020/03/Motif-Batik-Dayak-Kalimantan-Barat-709x1024.jpg 709w\" width=\"762\"/><figcaption class=\"wp-caption-text\" id=\"caption-attachment-3225\">jd.id</figcaption></figure><p>Bagaimanapun bagusnya, banyak pria tak menyukai apapun yang berkaitan dengan bunga, soal batik sekalipun. Bukan karena memang membencinya, namun kebanyakan dari mereka merasa corak tersebut mengesankan look feminim.</p><p>Jika kamu salah satu yang menghindari bunga, pilihlah opsi batik bercorak daun ini untuk setiap acara yang hendak kamu datangi. Harganya sekitar 90 ribuan saja.</p><p><strong>8. Batik Kombinasi untuk Momen Santai</strong></p><figure aria-describedby=\"caption-attachment-3226\" class=\"wp-caption aligncenter\" id=\"attachment_3226\" style=\"width: 740px\"><img alt=\"Motif Batik Dayak Kalimantan Tengah\" class=\"size-full wp-image-3226\" height=\"1083\" loading=\"lazy\" sizes=\"(max-width: 750px) 100vw, 750px\" src=\"https://bergaya.id/wp-content/uploads/2020/03/Motif-Batik-Dayak-Kalimantan-Tengah.jpg\" srcset=\"https://bergaya.id/wp-content/uploads/2020/03/Motif-Batik-Dayak-Kalimantan-Tengah.jpg 750w, https://bergaya.id/wp-content/uploads/2020/03/Motif-Batik-Dayak-Kalimantan-Tengah-208x300.jpg 208w, https://bergaya.id/wp-content/uploads/2020/03/Motif-Batik-Dayak-Kalimantan-Tengah-709x1024.jpg 709w\" width=\"750\"/><figcaption class=\"wp-caption-text\" id=\"caption-attachment-3226\">pinterest.com</figcaption></figure><p>Tak hanya untuk bepergian ke acara formal, kamu bisa menggunakan batikmu untuk baju keseharian. Gaya lengan pendek model peplum semi-kerut ini misalnya.</p><p>Tampilanmu akan terlihat santai namun tetap chic berkat perpaduannya yan sempurna dengan aksen mini polkadot di daerah tengah dan kerah. Kamu dapat memilikinya dengan membayar harga 50 ribuan saja.</p><p><strong>9. Batik Peplum Parang-Bunga</strong></p><figure aria-describedby=\"caption-attachment-3227\" class=\"wp-caption aligncenter\" id=\"attachment_3227\" style=\"width: 740px\"><img alt=\"Baju Batik Kalimantan\" class=\"size-full wp-image-3227\" height=\"1083\" loading=\"lazy\" sizes=\"(max-width: 750px) 100vw, 750px\" src=\"https://bergaya.id/wp-content/uploads/2020/03/Baju-Batik-Kalimantan.jpg\" srcset=\"https://bergaya.id/wp-content/uploads/2020/03/Baju-Batik-Kalimantan.jpg 750w, https://bergaya.id/wp-content/uploads/2020/03/Baju-Batik-Kalimantan-208x300.jpg 208w, https://bergaya.id/wp-content/uploads/2020/03/Baju-Batik-Kalimantan-709x1024.jpg 709w\" width=\"750\"/><figcaption class=\"wp-caption-text\" id=\"caption-attachment-3227\">pinterest.com</figcaption></figure><p>Corak bunga dan parang mungkin memang kerap dipersatukan dalam batik. Bedanya, kali ini susunannya dibuat diagonal sehingga membantu memberi bentuk pada tubuhmu.</p><p>Apalagi model baju berpotongan peplum ini memiliki kerut di bagian pinggang. Kamu bisa mendapatkannya dengan harga sekitar 90 ribuan.</p><p><strong>10. Batik Modern Fifty-Fifty</strong></p><figure aria-describedby=\"caption-attachment-3228\" class=\"wp-caption aligncenter\" id=\"attachment_3228\" style=\"width: 740px\"><img alt=\"Motif Batik Kalimantan Selatan\" class=\"size-full wp-image-3228\" height=\"1125\" loading=\"lazy\" sizes=\"(max-width: 750px) 100vw, 750px\" src=\"https://bergaya.id/wp-content/uploads/2020/03/Motif-Batik-Kalimantan-Selatan.jpg\" srcset=\"https://bergaya.id/wp-content/uploads/2020/03/Motif-Batik-Kalimantan-Selatan.jpg 750w, https://bergaya.id/wp-content/uploads/2020/03/Motif-Batik-Kalimantan-Selatan-200x300.jpg 200w, https://bergaya.id/wp-content/uploads/2020/03/Motif-Batik-Kalimantan-Selatan-683x1024.jpg 683w\" width=\"750\"/><figcaption class=\"wp-caption-text\" id=\"caption-attachment-3228\">lazada.co.id</figcaption></figure><p>Kalau bosan dengan model baju batik yang bercorak penuh, kamu wajib memasukkan batik modern ini dalam daftar list-mu.</p><p>Modelnya yang berpotongan setengah batik-setengah polos membuat tampilanmu makin mengesankan dan edgy. Terlebih aksen kancing batik yang melajur diagonal.</p><p>Untuk memilikinya, kamu cukup membeli pada harga 70-80 ribuan, tergantung ketebalan bahan.</p><p><strong>11. Batik Pria Corak Shaho</strong></p><figure aria-describedby=\"caption-attachment-3229\" class=\"wp-caption aligncenter\" id=\"attachment_3229\" style=\"width: 1270px\"><img alt=\"Gambar Batik Kalimantan Timur\" class=\"size-full wp-image-3229\" height=\"1280\" loading=\"lazy\" sizes=\"(max-width: 1280px) 100vw, 1280px\" src=\"https://bergaya.id/wp-content/uploads/2020/03/Gambar-Batik-Kalimantan-Timur.jpeg\" srcset=\"https://bergaya.id/wp-content/uploads/2020/03/Gambar-Batik-Kalimantan-Timur.jpeg 1280w, https://bergaya.id/wp-content/uploads/2020/03/Gambar-Batik-Kalimantan-Timur-150x150.jpeg 150w, https://bergaya.id/wp-content/uploads/2020/03/Gambar-Batik-Kalimantan-Timur-300x300.jpeg 300w, https://bergaya.id/wp-content/uploads/2020/03/Gambar-Batik-Kalimantan-Timur-768x768.jpeg 768w, https://bergaya.id/wp-content/uploads/2020/03/Gambar-Batik-Kalimantan-Timur-1024x1024.jpeg 1024w, https://bergaya.id/wp-content/uploads/2020/03/Gambar-Batik-Kalimantan-Timur-24x24.jpeg 24w, https://bergaya.id/wp-content/uploads/2020/03/Gambar-Batik-Kalimantan-Timur-48x48.jpeg 48w, https://bergaya.id/wp-content/uploads/2020/03/Gambar-Batik-Kalimantan-Timur-96x96.jpeg 96w\" width=\"1280\"/><figcaption class=\"wp-caption-text\" id=\"caption-attachment-3229\">pinterest.com</figcaption></figure><p>Motif shaho merupakan salah satu yang paling terkenal dalam jajaran batik di Kalimantan. Pada dasarnya corak tersebut menggambarkan keberanian dan keindahan.</p><p>Sangat pas digunakan bagi para pria untuk menonjolkan sisi machonya tanpa harus terkesan memaksa. Namun sentuhan unik justru datang dari gradasi kecoklatan yang muncul di sisi bahu dan bagian saku.</p><p>Agar bisa memilikinya, kamu perlu membeli seharga 90 ribuan. Terbilang cukup mahal untuk ukuran batik lengan pendek. Tapi hal itu wajar mengingat bahan sutera sebagai media utamanya.</p><p><strong>12. Batik Pontianak</strong></p><figure aria-describedby=\"caption-attachment-3230\" class=\"wp-caption aligncenter\" id=\"attachment_3230\" style=\"width: 962px\"><img alt=\"Model Baju Batik Kalimantan\" class=\"size-full wp-image-3230\" height=\"972\" loading=\"lazy\" sizes=\"(max-width: 972px) 100vw, 972px\" src=\"https://bergaya.id/wp-content/uploads/2020/03/Model-Baju-Batik-Kalimantan.jpg\" srcset=\"https://bergaya.id/wp-content/uploads/2020/03/Model-Baju-Batik-Kalimantan.jpg 972w, https://bergaya.id/wp-content/uploads/2020/03/Model-Baju-Batik-Kalimantan-150x150.jpg 150w, https://bergaya.id/wp-content/uploads/2020/03/Model-Baju-Batik-Kalimantan-300x300.jpg 300w, https://bergaya.id/wp-content/uploads/2020/03/Model-Baju-Batik-Kalimantan-768x768.jpg 768w, https://bergaya.id/wp-content/uploads/2020/03/Model-Baju-Batik-Kalimantan-24x24.jpg 24w, https://bergaya.id/wp-content/uploads/2020/03/Model-Baju-Batik-Kalimantan-48x48.jpg 48w, https://bergaya.id/wp-content/uploads/2020/03/Model-Baju-Batik-Kalimantan-96x96.jpg 96w\" width=\"972\"/><figcaption class=\"wp-caption-text\" id=\"caption-attachment-3230\">batikmodernweb.blogspot.com</figcaption></figure><p>Corak batik Pontianak dikenal pula dengan sebutan corak insang. Dulunya, batik jenis ini kerap digunakan sebagai syarat pakaian adat untuk dipakai di acara penting seperti pernikahan.</p><p>Tapi, kini kamu bisa menggunakannya dengan bebas, bahkan untuk sekedar bersantai di rumah. Kamu bisa memilikinya dengan membeli seharga 90 ribuan.</p><p><strong>13. Batik Modern Geometris</strong></p><figure aria-describedby=\"caption-attachment-3231\" class=\"wp-caption aligncenter\" id=\"attachment_3231\" style=\"width: 878px\"><img alt=\"Batik Dayak Kalimantan\" class=\"size-full wp-image-3231\" height=\"1335\" loading=\"lazy\" sizes=\"(max-width: 888px) 100vw, 888px\" src=\"https://bergaya.id/wp-content/uploads/2020/03/Batik-Dayak-Kalimantan.jpg\" srcset=\"https://bergaya.id/wp-content/uploads/2020/03/Batik-Dayak-Kalimantan.jpg 888w, https://bergaya.id/wp-content/uploads/2020/03/Batik-Dayak-Kalimantan-200x300.jpg 200w, https://bergaya.id/wp-content/uploads/2020/03/Batik-Dayak-Kalimantan-768x1155.jpg 768w, https://bergaya.id/wp-content/uploads/2020/03/Batik-Dayak-Kalimantan-681x1024.jpg 681w\" width=\"888\"/><figcaption class=\"wp-caption-text\" id=\"caption-attachment-3231\">batikmodernweb.blogspot.com</figcaption></figure><p>Tak selalu hadir dalam desain rumit, untukmu yang suka gaya simple, batik ini bisa jadi pilihan tepat. Tak ada corak aneh-aneh yang menghiasi, cukup aksen garis diagonal saling berseberangan yang menciptakan efek geometris.</p><p>Di sisi kiri terdapat corak ayam. Cukup simple dan chic untukmu yang memiliki karakter tomboy. Kamu bisa memborongnya di harga 80 ribuan.</p><p><strong>14. Batik Burung Enggang</strong></p><figure aria-describedby=\"caption-attachment-3232\" class=\"wp-caption aligncenter\" id=\"attachment_3232\" style=\"width: 890px\"><img alt=\"Motif Batik Kalimantan Utara\" class=\"size-full wp-image-3232\" height=\"900\" loading=\"lazy\" sizes=\"(max-width: 900px) 100vw, 900px\" src=\"https://bergaya.id/wp-content/uploads/2020/03/Motif-Batik-Kalimantan-Utara.jpg\" srcset=\"https://bergaya.id/wp-content/uploads/2020/03/Motif-Batik-Kalimantan-Utara.jpg 900w, https://bergaya.id/wp-content/uploads/2020/03/Motif-Batik-Kalimantan-Utara-150x150.jpg 150w, https://bergaya.id/wp-content/uploads/2020/03/Motif-Batik-Kalimantan-Utara-300x300.jpg 300w, https://bergaya.id/wp-content/uploads/2020/03/Motif-Batik-Kalimantan-Utara-768x768.jpg 768w, https://bergaya.id/wp-content/uploads/2020/03/Motif-Batik-Kalimantan-Utara-24x24.jpg 24w, https://bergaya.id/wp-content/uploads/2020/03/Motif-Batik-Kalimantan-Utara-48x48.jpg 48w, https://bergaya.id/wp-content/uploads/2020/03/Motif-Batik-Kalimantan-Utara-96x96.jpg 96w\" width=\"900\"/><figcaption class=\"wp-caption-text\" id=\"caption-attachment-3232\">pinterest.com</figcaption></figure><p>Tak perlu khawatir untuk menghadiri suatu acara dengan memakai warna merah. Jika tak terlalu percaya diri dengan tampilan baju merah polos, kamu bisa menggunakan batik burung enggang ini.</p><p>Paduannya yang pas dengan kombinsai warna biru dan keemasan akan membuat tampilanmu lebih santai tapi tetap elegan. Harganya pun sekitar 90 ribuan saja.</p><p><strong>15. Batik Etnis Melayu</strong></p><figure aria-describedby=\"caption-attachment-3233\" class=\"wp-caption aligncenter\" id=\"attachment_3233\" style=\"width: 1910px\"><img alt=\"Macam Macam Batik Kalimantan\" class=\"size-full wp-image-3233\" height=\"1920\" loading=\"lazy\" sizes=\"(max-width: 1920px) 100vw, 1920px\" src=\"https://bergaya.id/wp-content/uploads/2020/03/Macam-Macam-Batik-Kalimantan.jpg\" srcset=\"https://bergaya.id/wp-content/uploads/2020/03/Macam-Macam-Batik-Kalimantan.jpg 1920w, https://bergaya.id/wp-content/uploads/2020/03/Macam-Macam-Batik-Kalimantan-150x150.jpg 150w, https://bergaya.id/wp-content/uploads/2020/03/Macam-Macam-Batik-Kalimantan-300x300.jpg 300w, https://bergaya.id/wp-content/uploads/2020/03/Macam-Macam-Batik-Kalimantan-768x768.jpg 768w, https://bergaya.id/wp-content/uploads/2020/03/Macam-Macam-Batik-Kalimantan-1024x1024.jpg 1024w, https://bergaya.id/wp-content/uploads/2020/03/Macam-Macam-Batik-Kalimantan-24x24.jpg 24w, https://bergaya.id/wp-content/uploads/2020/03/Macam-Macam-Batik-Kalimantan-48x48.jpg 48w, https://bergaya.id/wp-content/uploads/2020/03/Macam-Macam-Batik-Kalimantan-96x96.jpg 96w\" width=\"1920\"/><figcaption class=\"wp-caption-text\" id=\"caption-attachment-3233\">pinterest.com</figcaption></figure><p>Gaya batik etnis Melayu yang kental dengan warna cerah terlihat meriah dan cocok untuk meramaikan suasana. Meski hanya mengusung konsep dwi-warna, tapi kamu bisa melihat tampilannya yang apik.</p><p>Walau berpotongan sederhana, batik ini bisa kamu gunakan untuk acara formal. Harganya pun tak terlalu mahal, kamu bisa mendapatkannya pada kisaran 80 ribuan.</p><p><strong>16. Batik Tow-Pieces Sleeveless</strong></p><figure aria-describedby=\"caption-attachment-3234\" class=\"wp-caption aligncenter\" id=\"attachment_3234\" style=\"width: 990px\"><img alt=\"Corak Batik Kalimantan\" class=\"size-full wp-image-3234\" height=\"1555\" loading=\"lazy\" sizes=\"(max-width: 1000px) 100vw, 1000px\" src=\"https://bergaya.id/wp-content/uploads/2020/03/Corak-Batik-Kalimantan.jpg\" srcset=\"https://bergaya.id/wp-content/uploads/2020/03/Corak-Batik-Kalimantan.jpg 1000w, https://bergaya.id/wp-content/uploads/2020/03/Corak-Batik-Kalimantan-193x300.jpg 193w, https://bergaya.id/wp-content/uploads/2020/03/Corak-Batik-Kalimantan-768x1194.jpg 768w, https://bergaya.id/wp-content/uploads/2020/03/Corak-Batik-Kalimantan-659x1024.jpg 659w\" width=\"1000\"/><figcaption class=\"wp-caption-text\" id=\"caption-attachment-3234\">pinterest.com</figcaption></figure><p>Untuk mendukung tampilan yang santai dan tak kaku, pilihan baju tanpa lengan adalah opsi paling tepat.</p><p>Model baju sleeveless seperti ini bisa kamu gunakan untuk acara semi-formal juga berkat mini skirt yang berpotongan sederhana. Kamu bisa membelinya seharga 90 ribuan.</p><p><strong>17. Batik Merak Modern</strong></p><figure aria-describedby=\"caption-attachment-3235\" class=\"wp-caption aligncenter\" id=\"attachment_3235\" style=\"width: 740px\"><img alt=\"Batik Motif Kalimantan\" class=\"size-full wp-image-3235\" height=\"1125\" loading=\"lazy\" sizes=\"(max-width: 750px) 100vw, 750px\" src=\"https://bergaya.id/wp-content/uploads/2020/03/Batik-Motif-Kalimantan.jpg\" srcset=\"https://bergaya.id/wp-content/uploads/2020/03/Batik-Motif-Kalimantan.jpg 750w, https://bergaya.id/wp-content/uploads/2020/03/Batik-Motif-Kalimantan-200x300.jpg 200w, https://bergaya.id/wp-content/uploads/2020/03/Batik-Motif-Kalimantan-683x1024.jpg 683w\" width=\"750\"/><figcaption class=\"wp-caption-text\" id=\"caption-attachment-3235\">pinterest.com</figcaption></figure><p>Mengombinasikan corak merak dengan aksen monokrom modern tampaknya adalah hal yang tepat untuk dilakukan. Lihat saja gambar di atas yang terlihat chic dan elegan.</p><p>Sekalipun kamu mengenakan setelan kaos atau malah mungkin tank top dan bawahan ala kadarnya, tampilanmu akan seketika berubah formal ketika mengenakan outer batik modern ini. Harganya 60 ribuan saja.</p><p><strong>18. Batik Kombinasi</strong></p><figure aria-describedby=\"caption-attachment-3236\" class=\"wp-caption aligncenter\" id=\"attachment_3236\" style=\"width: 740px\"><img alt=\"Motif Batik Dari Kalimantan\" class=\"size-full wp-image-3236\" height=\"1083\" loading=\"lazy\" sizes=\"(max-width: 750px) 100vw, 750px\" src=\"https://bergaya.id/wp-content/uploads/2020/03/Motif-Batik-Dari-Kalimantan.jpg\" srcset=\"https://bergaya.id/wp-content/uploads/2020/03/Motif-Batik-Dari-Kalimantan.jpg 750w, https://bergaya.id/wp-content/uploads/2020/03/Motif-Batik-Dari-Kalimantan-208x300.jpg 208w, https://bergaya.id/wp-content/uploads/2020/03/Motif-Batik-Dari-Kalimantan-709x1024.jpg 709w\" width=\"750\"/><figcaption class=\"wp-caption-text\" id=\"caption-attachment-3236\">pinterest.com</figcaption></figure><p>Mengenakan terusan batik alias long dress memang agak riskan. Tetapi asalkan kamu PD, semuanya akan berjalan dengan baik.</p><p>Apalagi, dengan long dress ini kamu tak perlu lagi sibuk memadu-padankan setelan. Harganya pun cukup miring, sekitar 110 ribuan.</p><p><strong>19. Batik Serat Kayu Elegan</strong></p><figure aria-describedby=\"caption-attachment-3237\" class=\"wp-caption aligncenter\" id=\"attachment_3237\" style=\"width: 740px\"><img alt=\"Motif Batik Dayak Kalimantan Timur\" class=\"size-full wp-image-3237\" height=\"1083\" loading=\"lazy\" sizes=\"(max-width: 750px) 100vw, 750px\" src=\"https://bergaya.id/wp-content/uploads/2020/03/Motif-Batik-Dayak-Kalimantan-Timur.jpg\" srcset=\"https://bergaya.id/wp-content/uploads/2020/03/Motif-Batik-Dayak-Kalimantan-Timur.jpg 750w, https://bergaya.id/wp-content/uploads/2020/03/Motif-Batik-Dayak-Kalimantan-Timur-208x300.jpg 208w, https://bergaya.id/wp-content/uploads/2020/03/Motif-Batik-Dayak-Kalimantan-Timur-709x1024.jpg 709w\" width=\"750\"/><figcaption class=\"wp-caption-text\" id=\"caption-attachment-3237\">pinterest.com</figcaption></figure><p>Batik serat kayu selalu memiliki keunikan tersendiri yang mampu menunjang tampilanmu tampak lebih fashionable.</p><p>Tak perlu banyak bermain warna, corak sederhana dengan warna netral ini justru akan membuat lookmu tampak mahal. Padahal, kamu hanya perlu membayar 100 ribuan saja.</p><p><strong>20. Batik Biru Navy nan Manly</strong></p><figure aria-describedby=\"caption-attachment-3238\" class=\"wp-caption aligncenter\" id=\"attachment_3238\" style=\"width: 740px\"><img alt=\"Model Baju Batik Sasirangan Kalimantan\" class=\"size-full wp-image-3238\" height=\"1083\" loading=\"lazy\" sizes=\"(max-width: 750px) 100vw, 750px\" src=\"https://bergaya.id/wp-content/uploads/2020/03/Model-Baju-Batik-Sasirangan-Kalimantan.jpg\" srcset=\"https://bergaya.id/wp-content/uploads/2020/03/Model-Baju-Batik-Sasirangan-Kalimantan.jpg 750w, https://bergaya.id/wp-content/uploads/2020/03/Model-Baju-Batik-Sasirangan-Kalimantan-208x300.jpg 208w, https://bergaya.id/wp-content/uploads/2020/03/Model-Baju-Batik-Sasirangan-Kalimantan-709x1024.jpg 709w\" width=\"750\"/><figcaption class=\"wp-caption-text\" id=\"caption-attachment-3238\">pinterest.com</figcaption></figure><p>Bosan dengan warna-warna gelap ? Saatnya kamu beralih pada batik berwarna dasar biru navy ini. Warna tersebut membuat tampilanmu terlihat kuat dan manly. Terlebih berkat corak yang tak terlalu alay.</p><p>Dari sekian banyak model batik, kamu suka corak khas batik Kalimantan yang mana nih ? Komen dibawah ya 🙂 .</p><div class=\"b496d133757657c9ec6dfc152a2098dd\" data-index=\"5\" style=\"float: none; margin:0px 0 0px 0; text-align:center;\"> <script async=\"\" crossorigin=\"anonymous\" src=\"https://pagead2.googlesyndication.com/pagead/js/adsbygoogle.js?client=ca-pub-9277707181105853\"></script> <ins class=\"adsbygoogle\" data-ad-client=\"ca-pub-9277707181105853\" data-ad-slot=\"5081534001\" style=\"display:inline-block;width:336px;height:280px\"></ins> <script>(adsbygoogle = window.adsbygoogle || []).push({});</script> <script async=\"\" crossorigin=\"anonymous\" src=\"https://pagead2.googlesyndication.com/pagead/js/adsbygoogle.js?client=ca-pub-9277707181105853\"></script> <ins class=\"adsbygoogle\" data-ad-client=\"ca-pub-9277707181105853\" data-ad-format=\"autorelaxed\" data-ad-slot=\"7562001805\" style=\"display:block\"></ins> <script>(adsbygoogle = window.adsbygoogle || []).push({});</script> <div id=\"M721036ScriptRootC1150414\"></div> </div><div style=\"font-size: 0px; height: 0px; line-height: 0px; margin: 0; padding: 0; clear: both;\"></div></div><footer class=\"entry-meta\"> <span class=\"cat-links\"><span class=\"screen-reader-text\">Categories </span><a href=\"https://bergaya.id/fashion/batik/\" rel=\"category tag\">Batik</a></span><nav class=\"post-navigation\" id=\"nav-below\"> <span class=\"screen-reader-text\">Post navigation</span><div class=\"nav-previous\"><span class=\"prev\" title=\"Previous\"><a href=\"https://bergaya.id/batik-madura/\" rel=\"prev\">Batik Madura</a></span></div><div class=\"nav-next\"><span class=\"next\" title=\"Next\"><a href=\"https://bergaya.id/batik-jawa/\" rel=\"next\">Batik Jawa</a></span></div></nav></footer><div class=\"author-box\"><div class=\"avatar\"><img alt=\"\" class=\"avatar avatar-96 photo\" height=\"96\" loading=\"lazy\" sizes=\"(max-width: 96px) 100vw, 96px\" src=\"https://bergaya.id/wp-content/uploads/2019/10/IMG-20191031-WA0022-96x96.jpg\" srcset=\"https://bergaya.id/wp-content/uploads/2019/10/IMG-20191031-WA0022-96x96.jpg 96w, https://bergaya.id/wp-content/uploads/2019/10/IMG-20191031-WA0022-150x150.jpg 150w, https://bergaya.id/wp-content/uploads/2019/10/IMG-20191031-WA0022-24x24.jpg 24w, https://bergaya.id/wp-content/uploads/2019/10/IMG-20191031-WA0022-48x48.jpg 48w, https://bergaya.id/wp-content/uploads/2019/10/IMG-20191031-WA0022-300x300.jpg 300w\" width=\"96\"/></div><h5 class=\"author-title\">About Resty Aprilia</h5><div class=\"author-summary\"><p class=\"author-description\">Seorang dreamer and learner yang suka menulis perkembangan lifestyle kaum millenial dari masa ke masa.</p></div></div></div></article><div class=\"comments-area\"><div id=\"comments\"><div class=\"comment-respond\" id=\"respond\"><h3 class=\"comment-reply-title\" id=\"reply-title\">Leave a Comment <small><a href=\"/batik-kalimantan/#respond\" id=\"cancel-comment-reply-link\" rel=\"nofollow\" style=\"display:none;\">Cancel reply</a></small></h3><form action=\"https://bergaya.id/wp-comments-post.php\" class=\"comment-form\" id=\"commentform\" method=\"post\" novalidate=\"\"><p class=\"comment-form-comment\"><label class=\"screen-reader-text\" for=\"comment\">Comment</label><textarea aria-required=\"true\" cols=\"45\" id=\"comment\" name=\"comment\" required=\"\" rows=\"8\"></textarea></p><label class=\"screen-reader-text\" for=\"author\">Name</label><input id=\"author\" name=\"author\" placeholder=\"Name *\" size=\"30\" type=\"text\" value=\"\"/> <label class=\"screen-reader-text\" for=\"email\">Email</label><input id=\"email\" name=\"email\" placeholder=\"Email *\" size=\"30\" type=\"email\" value=\"\"/> <label class=\"screen-reader-text\" for=\"url\">Website</label><input id=\"url\" name=\"url\" placeholder=\"Website\" size=\"30\" type=\"url\" value=\"\"/><p class=\"comment-form-cookies-consent\"><input id=\"wp-comment-cookies-consent\" name=\"wp-comment-cookies-consent\" type=\"checkbox\" value=\"yes\"/> <label for=\"wp-comment-cookies-consent\">Save my name, email, and website in this browser for the next time I comment.</label></p><p class=\"form-submit\"><input class=\"submit\" id=\"submit\" name=\"submit\" type=\"submit\" value=\"Post Comment\"/> <input id=\"comment_post_ID\" name=\"comment_post_ID\" type=\"hidden\" value=\"3202\"/> <input id=\"comment_parent\" name=\"comment_parent\" type=\"hidden\" value=\"0\"/></p></form></div></div></div></main></div></div></div><div class=\"site-footer\"><div class=\"gb-container gb-container-dc127bdc\"><div class=\"gb-inside-container\"><div class=\"gb-grid-wrapper gb-grid-wrapper-cb0c0ede\"><div class=\"gb-grid-column gb-grid-column-a0a081ed\"><div class=\"gb-container gb-container-a0a081ed\"><div class=\"gb-inside-container\"><h3 class=\"gb-headline gb-headline-4fefe116 gb-headline-text\">Kenalan Yuk !</h3><p class=\"gb-headline gb-headline-2f407fe6 gb-headline-text\">Bergaya.id merupakan salah satu portal media yang dipersembahkan untuk gen Z dan generasi milenial. Membahas berbagai macam topik yang menarik dan ringan.</p><div class=\"gb-button-wrapper gb-button-wrapper-b856ffad\"> <a class=\"gb-button gb-button-ad8120e7 gb-button-text\" href=\"https://bergaya.id/hubungi-kami/\">Kontak Kami</a></div></div></div></div><div class=\"gb-grid-column gb-grid-column-ff2498dc\"><div class=\"gb-container gb-container-ff2498dc\"><div class=\"gb-inside-container\"></div></div></div><div class=\"gb-grid-column gb-grid-column-c6f75f68\"><div class=\"gb-container gb-container-c6f75f68\"><div class=\"gb-inside-container\"><div class=\"gb-button-wrapper gb-button-wrapper-dc6e9c0a\"></div></div></div></div></div><div class=\"gb-container gb-container-a7dbdbe4\"><div class=\"gb-inside-container\"><div class=\"gb-grid-wrapper gb-grid-wrapper-76c91f39\"><div class=\"gb-grid-column gb-grid-column-ca60e5b7\"><div class=\"gb-container gb-container-ca60e5b7\"><div class=\"gb-inside-container\"><p class=\"gb-headline gb-headline-1e1d5f47 gb-headline-text\">© Bergaya.ID 2021 - All Right Reserved</p></div></div></div><div class=\"gb-grid-column gb-grid-column-94d49bbe\"><div class=\"gb-container gb-container-94d49bbe\"><div class=\"gb-inside-container\"><div class=\"gb-button-wrapper gb-button-wrapper-848592a5\"> <a class=\"gb-button gb-button-7f7555a4 gb-button-text\" href=\"https://bergaya.id/privacy-policy/\" rel=\"noopener noreferrer\" target=\"_blank\">Kebijakan Privasi</a> <a class=\"gb-button gb-button-5161e67f gb-button-text\" href=\"https://bergaya.id/disclaimer/\" rel=\"noopener noreferrer\" target=\"_blank\">Disclaimer</a></div></div></div></div></div></div></div></div></div></div> <a aria-label=\"Scroll back to top\" class=\"generate-back-to-top\" data-scroll-speed=\"400\" data-start-scroll=\"300\" href=\"#\" rel=\"nofollow\" style=\"opacity:0;visibility:hidden;\" title=\"Scroll back to top\"> </a><script type=\"text/javascript\">var jQueryScriptOutputted = false;function initJQuery() {if (typeof(jQuery) == \"undefined\") {if (!jQueryScriptOutputted) {jQueryScriptOutputted = true;document.write(\"<scr\" + \"ipt type=\\\"text/javascript\\\" src=\\\"https://code.jquery.com/jquery-1.8.2.min.js\\\"></scr\" + \"ipt>\");}setTimeout(\"initJQuery()\", 50);}}initJQuery();</script><script type=\"text/javascript\">jQuery(document).ready(function() {\n",
              "jQuery(\".b496d133757657c9ec6dfc152a2098dd\").click(function() {\n",
              "jQuery.post(\n",
              "\"https://bergaya.id/wp-admin/admin-ajax.php\", {\n",
              "\"action\": \"quick_adsense_onpost_ad_click\",\n",
              "\"quick_adsense_onpost_ad_index\": jQuery(this).attr(\"data-index\"),\n",
              "\"quick_adsense_nonce\": \"d673960b76\",\n",
              "}, function(response) { }\n",
              ");\n",
              "});\n",
              "});</script> <script id=\"toc-front-js-extra\">var tocplus = {\"smooth_scroll\":\"1\",\"visibility_show\":\"Tampilkan\",\"visibility_hide\":\"Sembunyikan\",\"visibility_hide_by_default\":\"1\",\"width\":\"Auto\"};</script> <!--[if lte IE 11]>\n",
              "<script src='https://bergaya.id/wp-content/themes/generatepress/assets/js/classList.min.js?ver=3.0.4' id='generate-classlist-js'></script>\n",
              "<![endif]--> <script id=\"generate-main-js-extra\">var generatepressMenu = {\"toggleOpenedSubMenus\":\"1\",\"openSubMenuLabel\":\"Open Sub-Menu\",\"closeSubMenuLabel\":\"Close Sub-Menu\"};</script> <script id=\"generate-navigation-search-js-extra\">var generatepressNavSearch = {\"open\":\"Open Search Bar\",\"close\":\"Close Search Bar\"};</script> <script data-minify=\"1\" defer=\"\" src=\"https://bergaya.id/wp-content/cache/min/1/db4100b3d3a596d21024b657f38b8d06.js\"></script></body></html>\n",
              "<!-- This website is like a Rocket, isn't it? Performance optimized by WP Rocket. Learn more: https://wp-rocket.me - Debug: cached@1631460958 -->"
            ]
          },
          "metadata": {},
          "execution_count": 143
        }
      ]
    },
    {
      "cell_type": "code",
      "metadata": {
        "colab": {
          "base_uri": "https://localhost:8080/"
        },
        "id": "9Xmm787yptfM",
        "outputId": "a59d8009-9fd9-4a51-8743-273d54d23d34"
      },
      "source": [
        "article = html.find('div', class_='entry-content')\n",
        "figures = article.find_all('figure')\n",
        "len(figures)"
      ],
      "execution_count": null,
      "outputs": [
        {
          "output_type": "execute_result",
          "data": {
            "text/plain": [
              "35"
            ]
          },
          "metadata": {},
          "execution_count": 146
        }
      ]
    },
    {
      "cell_type": "code",
      "metadata": {
        "colab": {
          "base_uri": "https://localhost:8080/"
        },
        "id": "upoSuAx2p5in",
        "outputId": "b7d5e15f-cf1a-46f6-8740-b143e3c239db"
      },
      "source": [
        "img_links = []\n",
        "for i in figures:\n",
        "  img_links.append(getAllImgLink(i)[0])\n",
        "for i in img_links:\n",
        "  print(i)"
      ],
      "execution_count": null,
      "outputs": [
        {
          "output_type": "stream",
          "name": "stdout",
          "text": [
            "https://bergaya.id/wp-content/uploads/2020/03/Motif-Batik-Kalimantan-Dayak.jpg\n",
            "https://bergaya.id/wp-content/uploads/2020/03/Motif-Batik-Kalimantan-Shaho.jpg\n",
            "https://bergaya.id/wp-content/uploads/2020/03/Batik-Empiek-Kalimantan.jpg\n",
            "https://bergaya.id/wp-content/uploads/2020/03/Batik-Kalimantan.jpg\n",
            "https://bergaya.id/wp-content/uploads/2020/03/Motif-Batik-Kalimantan.jpg\n",
            "https://bergaya.id/wp-content/uploads/2020/03/Gambar-Batik-Kalimantan-Naga-Balimbur.jpg\n",
            "https://bergaya.id/wp-content/uploads/2020/03/Batik-Kalimantan-Timur-Bayam-Raja.jpg\n",
            "https://bergaya.id/wp-content/uploads/2020/03/Batik-Khas-Kalimantan-Timur-Daun-Jaruju.jpg\n",
            "https://bergaya.id/wp-content/uploads/2020/03/Contoh-Batik-Kalimantan-Kembang-Tampuk-Manggis.jpg\n",
            "https://bergaya.id/wp-content/uploads/2020/03/Model-Batik-Kalimantan-Motif-Batang-Garing.jpg\n",
            "https://bergaya.id/wp-content/uploads/2020/03/Batik-etnis-melayu-tradisional.jpg\n",
            "https://bergaya.id/wp-content/uploads/2020/03/Batik-Kalimantan-Motif-Burung-Enggang.png\n",
            "https://bergaya.id/wp-content/uploads/2020/03/Batik-Kalimantan-Motif-Tidayu.jpg\n",
            "https://bergaya.id/wp-content/uploads/2020/03/Batik-Kalimantan-Motif-Kembang-Kenanga.jpg\n",
            "https://bergaya.id/wp-content/uploads/2020/03/Motif-Batik-Kalimantan-Timur.jpg\n",
            "https://bergaya.id/wp-content/uploads/2020/03/Batik-Kalimantan-Barat.jpg\n",
            "https://bergaya.id/wp-content/uploads/2020/03/Batik-Kalimantan-Selatan.jpg\n",
            "https://bergaya.id/wp-content/uploads/2020/03/Batik-Kalimantan-Tengah.jpg\n",
            "https://bergaya.id/wp-content/uploads/2020/03/Motif-Batik-Kalimantan-Barat.jpg\n",
            "https://bergaya.id/wp-content/uploads/2020/03/Batik-Kalimantan-Utara.jpg\n",
            "https://bergaya.id/wp-content/uploads/2020/03/Batik-Khas-Kalimantan.jpg\n",
            "https://bergaya.id/wp-content/uploads/2020/03/Motif-Batik-Dayak-Kalimantan-Barat.jpg\n",
            "https://bergaya.id/wp-content/uploads/2020/03/Motif-Batik-Dayak-Kalimantan-Tengah.jpg\n",
            "https://bergaya.id/wp-content/uploads/2020/03/Baju-Batik-Kalimantan.jpg\n",
            "https://bergaya.id/wp-content/uploads/2020/03/Motif-Batik-Kalimantan-Selatan.jpg\n",
            "https://bergaya.id/wp-content/uploads/2020/03/Gambar-Batik-Kalimantan-Timur.jpeg\n",
            "https://bergaya.id/wp-content/uploads/2020/03/Model-Baju-Batik-Kalimantan.jpg\n",
            "https://bergaya.id/wp-content/uploads/2020/03/Batik-Dayak-Kalimantan.jpg\n",
            "https://bergaya.id/wp-content/uploads/2020/03/Motif-Batik-Kalimantan-Utara.jpg\n",
            "https://bergaya.id/wp-content/uploads/2020/03/Macam-Macam-Batik-Kalimantan.jpg\n",
            "https://bergaya.id/wp-content/uploads/2020/03/Corak-Batik-Kalimantan.jpg\n",
            "https://bergaya.id/wp-content/uploads/2020/03/Batik-Motif-Kalimantan.jpg\n",
            "https://bergaya.id/wp-content/uploads/2020/03/Motif-Batik-Dari-Kalimantan.jpg\n",
            "https://bergaya.id/wp-content/uploads/2020/03/Motif-Batik-Dayak-Kalimantan-Timur.jpg\n",
            "https://bergaya.id/wp-content/uploads/2020/03/Model-Baju-Batik-Sasirangan-Kalimantan.jpg\n"
          ]
        }
      ]
    },
    {
      "cell_type": "code",
      "metadata": {
        "id": "ndbeutLfqfEr"
      },
      "source": [
        "motives_count = saveImgs(img_links[:15], motives_count, 'motives')\n",
        "batik_count = saveImgs(img_links[16:], batik_count, 'batik_clothes')"
      ],
      "execution_count": null,
      "outputs": []
    },
    {
      "cell_type": "code",
      "metadata": {
        "id": "GppUzvttsQr5"
      },
      "source": [
        "url = 'https://bergaya.id/batik-parang/'\n",
        "html = getScrapHtml(url)"
      ],
      "execution_count": null,
      "outputs": []
    },
    {
      "cell_type": "code",
      "metadata": {
        "id": "7FLcwsxxtYRI"
      },
      "source": [
        "article = html.find('div', class_='entry-content')\n",
        "figures = article.find_all('figure')"
      ],
      "execution_count": null,
      "outputs": []
    },
    {
      "cell_type": "code",
      "metadata": {
        "colab": {
          "base_uri": "https://localhost:8080/"
        },
        "id": "icuHkjettZBV",
        "outputId": "2800dfd4-f926-49d7-86f0-c1598426a3b8"
      },
      "source": [
        "img_links = []\n",
        "for i in figures:\n",
        "  img_links.append(getAllImgLink(i)[0])\n",
        "for i in img_links:\n",
        "  print(i)"
      ],
      "execution_count": null,
      "outputs": [
        {
          "output_type": "stream",
          "name": "stdout",
          "text": [
            "https://bergaya.id/wp-content/uploads/2020/03/Batik-Parang-Motif-Merak.jpg\n",
            "https://bergaya.id/wp-content/uploads/2020/03/Motif-Batik-Parang-Kusumo-Jogja.jpg\n",
            "https://bergaya.id/wp-content/uploads/2020/03/Motif-Batik-Parang-Curigo.jpg\n",
            "https://bergaya.id/wp-content/uploads/2020/03/Motif-Batik-Parang-Tuding.jpg\n",
            "https://bergaya.id/wp-content/uploads/2020/03/Motif-Batik-Parang-Cantel.jpg\n",
            "https://bergaya.id/wp-content/uploads/2020/03/Batik-Parang-Kusumo-1.jpg\n",
            "https://bergaya.id/wp-content/uploads/2020/03/Batik-Parang-Rusak-Barong-Warna-Cerah.jpg\n",
            "https://bergaya.id/wp-content/uploads/2020/03/Batik-Parang-Centung.jpg\n",
            "https://bergaya.id/wp-content/uploads/2020/03/Motif-Batik-Parang-Curigo-Mlinjon.jpg\n",
            "https://bergaya.id/wp-content/uploads/2020/03/Parang-Rusak-Barong.jpg\n",
            "https://bergaya.id/wp-content/uploads/2020/03/Motif-Batik-Parang-Sketsa.jpg\n",
            "https://bergaya.id/wp-content/uploads/2020/03/Motif-Parang-Barong.jpg\n",
            "https://bergaya.id/wp-content/uploads/2020/03/Batik-Parang-Motif-Curigo.jpg\n",
            "https://bergaya.id/wp-content/uploads/2020/03/Batik-Parang-Seling-Warna.jpg\n",
            "https://bergaya.id/wp-content/uploads/2020/03/Batik-Parang-Bermakna.jpg\n",
            "https://bergaya.id/wp-content/uploads/2020/03/Setelan-Batik-Motif-Parang.jpg\n",
            "https://bergaya.id/wp-content/uploads/2020/03/Contoh-Batik-Parang.jpg\n",
            "https://bergaya.id/wp-content/uploads/2020/03/Batik-Parang-Rusak-Barong.jpg\n",
            "https://bergaya.id/wp-content/uploads/2020/03/Dress-Batik-Dengan-Outer-Motif-Parang.jpg\n",
            "https://bergaya.id/wp-content/uploads/2020/03/Minidress-batik-motif-parang.jpg\n",
            "https://bergaya.id/wp-content/uploads/2020/03/Batik-Parang-Kombinasi.jpg\n",
            "https://bergaya.id/wp-content/uploads/2020/03/Jenis-Motif-Batik-Parang.jpg\n",
            "https://bergaya.id/wp-content/uploads/2020/03/Gambar-Batik-Parang-Jawa.jpg\n",
            "https://bergaya.id/wp-content/uploads/2020/03/Minidress-batik-aksen-motif-parang.jpg\n",
            "https://bergaya.id/wp-content/uploads/2020/03/Minidres-Motif-Parang-Klasik.jpg\n",
            "https://bergaya.id/wp-content/uploads/2020/03/Foto-Batik-Parang.jpg\n",
            "https://bergaya.id/wp-content/uploads/2020/03/Design-Batik-Parang.jpg\n",
            "https://bergaya.id/wp-content/uploads/2020/03/Batik-Parang-Gambar.jpg\n",
            "https://bergaya.id/wp-content/uploads/2020/03/Batik-Parang-Slobog.jpg\n",
            "https://bergaya.id/wp-content/uploads/2020/03/Dress-Batik-Parang-Kencana.jpg\n",
            "https://bergaya.id/wp-content/uploads/2020/03/Dress-Batik-Parang-Kombinasi.jpg\n",
            "https://bergaya.id/wp-content/uploads/2020/03/Motif-Batik-Parang-Barong.jpg\n",
            "https://bergaya.id/wp-content/uploads/2020/03/Dress-Batik-Parang.jpg\n",
            "https://bergaya.id/wp-content/uploads/2020/03/Batik-Parang-Solo.jpg\n",
            "https://bergaya.id/wp-content/uploads/2020/03/Batik-Parang-Rusak.jpg\n",
            "https://bergaya.id/wp-content/uploads/2020/03/Batik-Parang.jpg\n",
            "https://bergaya.id/wp-content/uploads/2020/03/Batik-Parang-Keris.jpg\n",
            "https://bergaya.id/wp-content/uploads/2020/03/Batik-Parang-Kawung.jpg\n",
            "https://bergaya.id/wp-content/uploads/2020/03/Desain-Batik-Parang.jpeg\n",
            "https://bergaya.id/wp-content/uploads/2020/03/Motif-Batik-Parang-Curigo-1.jpg\n",
            "https://bergaya.id/wp-content/uploads/2020/03/Batik-Parang-Rusak-Jogja.jpg\n",
            "https://bergaya.id/wp-content/uploads/2020/03/Jumpsuit-parang-curigo.jpg\n",
            "https://bergaya.id/wp-content/uploads/2020/03/Batik-Parang-Berasal-Dari.jpg\n",
            "https://bergaya.id/wp-content/uploads/2020/03/Filosofi-Batik-Parang.jpg\n",
            "https://bergaya.id/wp-content/uploads/2020/03/Batik-Parang-Curigo.jpg\n",
            "https://bergaya.id/wp-content/uploads/2020/03/Outer-kasual-motif-parang-hitam-putih.jpg\n",
            "https://bergaya.id/wp-content/uploads/2020/03/Batik-Parang-Kencana.jpg\n",
            "https://bergaya.id/wp-content/uploads/2020/03/Batik-Parang-Kusumo-2.jpg\n",
            "https://bergaya.id/wp-content/uploads/2020/03/Batik-Parang-Jogja.jpg\n",
            "https://bergaya.id/wp-content/uploads/2020/03/Batik-Parang-Barong.jpg\n",
            "https://bergaya.id/wp-content/uploads/2020/03/Model-Baju-Batik-Motif-Parang.jpg\n",
            "https://bergaya.id/wp-content/uploads/2020/03/Kemeja-Batik-Motif-Parang-Naga.jpg\n",
            "https://bergaya.id/wp-content/uploads/2020/03/Kemeja-batik-motif-parang-kombinasi.jpg\n",
            "https://bergaya.id/wp-content/uploads/2020/03/Kemeja-batik-motif-parang-naga-hitam-merah.jpg\n",
            "https://bergaya.id/wp-content/uploads/2020/03/Kemeja-Batik-Motif-Parang-Naga-Hitam-Hijau.jpg\n"
          ]
        }
      ]
    },
    {
      "cell_type": "code",
      "metadata": {
        "id": "qvwheLqztbGd"
      },
      "source": [
        "motives_count = saveImgs(img_links[:15], motives_count, 'motives')\n",
        "batik_count = saveImgs(img_links[16:], batik_count, 'batik_clothes')"
      ],
      "execution_count": null,
      "outputs": []
    },
    {
      "cell_type": "code",
      "metadata": {
        "id": "B5-_xBWQtiGK"
      },
      "source": [
        "url = 'https://bergaya.id/batik-sidomukti/'\n",
        "html = getScrapHtml(url)"
      ],
      "execution_count": null,
      "outputs": []
    },
    {
      "cell_type": "code",
      "metadata": {
        "id": "gfhKGfosu0_u"
      },
      "source": [
        "article = html.find('div', class_='entry-content')\n",
        "figures = article.find_all('figure')"
      ],
      "execution_count": null,
      "outputs": []
    },
    {
      "cell_type": "code",
      "metadata": {
        "colab": {
          "base_uri": "https://localhost:8080/"
        },
        "id": "jUJ_QO2eu4Ms",
        "outputId": "93afbf82-df48-422d-ae74-84fc62dfbebe"
      },
      "source": [
        "img_links = []\n",
        "for i in figures:\n",
        "  img_links.append(getAllImgLink(i)[0])\n",
        "for i in img_links:\n",
        "  print(i)"
      ],
      "execution_count": null,
      "outputs": [
        {
          "output_type": "stream",
          "name": "stdout",
          "text": [
            "https://bergaya.id/wp-content/uploads/2020/03/Sidomukti-Garuda.jpg\n",
            "https://bergaya.id/wp-content/uploads/2020/03/Motif-Sidomukti-Isen-Ukel.jpg\n",
            "https://bergaya.id/wp-content/uploads/2020/03/Sidomukti-Ornamen-Meru.jpg\n",
            "https://bergaya.id/wp-content/uploads/2020/03/Sidomukti-Singgasana-Truntum.jpg\n",
            "https://bergaya.id/wp-content/uploads/2020/03/Sidomukti-Motif-Sogan-Colet-Burung.jpg\n",
            "https://bergaya.id/wp-content/uploads/2020/03/Batik-Sidomukti.jpg\n",
            "https://bergaya.id/wp-content/uploads/2020/03/Motif-Batik-Sidomukti.jpg\n",
            "https://bergaya.id/wp-content/uploads/2020/03/Motif-Batik-Sidomukti-Baron.jpg\n",
            "https://bergaya.id/wp-content/uploads/2020/03/Batik-Tulis-Sidomukti.jpg\n",
            "https://bergaya.id/wp-content/uploads/2020/03/Corak-Batik-Sidomukti.jpg\n",
            "https://bergaya.id/wp-content/uploads/2020/03/Motif-Sidomukti-Sidomulyo-Modern.jpg\n",
            "https://bergaya.id/wp-content/uploads/2020/03/Batik-Sidomukti-Motif-Simetris.jpg\n",
            "https://bergaya.id/wp-content/uploads/2020/03/Motif-Batik-Sidomukti-Solo.jpg\n",
            "https://bergaya.id/wp-content/uploads/2020/03/Batik-Sidomukti-Lukis.jpg\n",
            "https://bergaya.id/wp-content/uploads/2020/03/Gambar-Motif-Batik-Sidomukti.jpg\n",
            "https://bergaya.id/wp-content/uploads/2020/03/Asal-Batik-Sidomukti.jpg\n",
            "https://bergaya.id/wp-content/uploads/2020/03/Harga-Batik-Sidomukti.jpg\n",
            "https://bergaya.id/wp-content/uploads/2020/03/Blouse-Batik-Sidomukti-Model-Belah-Tengah.jpg\n",
            "https://bergaya.id/wp-content/uploads/2020/03/Hem-Sidomukti-dan-Motif-Batik-Solo.jpg\n",
            "https://bergaya.id/wp-content/uploads/2020/03/Kain-Batik-Sidomukti.jpg\n",
            "https://bergaya.id/wp-content/uploads/2020/03/Hem-Sidomukti-Slimfit.jpg\n",
            "https://bergaya.id/wp-content/uploads/2020/03/Hem-Sidomukti-Coklat-Tua.jpg\n",
            "https://bergaya.id/wp-content/uploads/2020/03/Harga-Kain-Batik-Sidomukti.jpg\n",
            "https://bergaya.id/wp-content/uploads/2020/03/Blouse-Wanita-Batik-Sidomukti-Biru.jpg\n",
            "https://bergaya.id/wp-content/uploads/2020/03/Hem-Sidomukti-Swastika.jpg\n",
            "https://bergaya.id/wp-content/uploads/2020/03/Hem-Sidomukti-Truntum.jpg\n",
            "https://bergaya.id/wp-content/uploads/2020/03/Filosofi-Batik-Sidomukti.jpg\n",
            "https://bergaya.id/wp-content/uploads/2020/03/Batik-Motif-Sidomukti.jpg\n",
            "https://bergaya.id/wp-content/uploads/2020/03/Makna-Batik-Sidomukti.jpg\n",
            "https://bergaya.id/wp-content/uploads/2020/03/Gambar-Batik-Sidomukti.jpg\n",
            "https://bergaya.id/wp-content/uploads/2020/03/Batik-Sidomukti-Solo.jpg\n",
            "https://bergaya.id/wp-content/uploads/2020/03/Hem-Sidomukti-Garuda.jpg\n",
            "https://bergaya.id/wp-content/uploads/2020/03/Sidomukti-Batik.jpg\n",
            "https://bergaya.id/wp-content/uploads/2020/03/Kutu-Baru-Kombinasi-Motif-Batik-Sidomukti.jpg\n",
            "https://bergaya.id/wp-content/uploads/2020/03/Hem-Sidomukti-Garuda-Hitam.jpg\n",
            "https://bergaya.id/wp-content/uploads/2020/03/Sidomukti-Full-Motif.jpg\n",
            "https://bergaya.id/wp-content/uploads/2020/03/Hem-Sidomukti-Modern.jpg\n",
            "https://bergaya.id/wp-content/uploads/2020/03/Batik-Sidomukti-Atasan-Wanita-Resleting-Depan.jpg\n",
            "https://bergaya.id/wp-content/uploads/2020/03/Blazer-Sidomukti-Ukel.jpg\n",
            "https://bergaya.id/wp-content/uploads/2020/03/Hem-Sidomukti-Modern-Kawung.jpg\n",
            "https://bergaya.id/wp-content/uploads/2020/03/Hem-Sidomukti-Gunungan.jpg\n",
            "https://bergaya.id/wp-content/uploads/2020/03/Hem-Sidomukti-Kombinasi-Tumbuhan.jpg\n",
            "https://bergaya.id/wp-content/uploads/2020/03/Hem-Batik-Kawung-Sidomukti.jpg\n",
            "https://bergaya.id/wp-content/uploads/2020/03/Hem-Batik-Kawung-Besar-Sidomukti.jpg\n",
            "https://bergaya.id/wp-content/uploads/2020/03/Blouse-Batik-Kawung-Sidomukti.jpg\n"
          ]
        }
      ]
    },
    {
      "cell_type": "code",
      "metadata": {
        "id": "vVnb4fnZu5LI"
      },
      "source": [
        "motives_count = saveImgs(img_links[:15], motives_count, 'motives')\n",
        "batik_count = saveImgs(img_links[16:], batik_count, 'batik_clothes')"
      ],
      "execution_count": null,
      "outputs": []
    },
    {
      "cell_type": "code",
      "metadata": {
        "id": "p-VO7rqMu9Pv"
      },
      "source": [
        "url = 'https://bergaya.id/batik-bali/'\n",
        "html= getScrapHtml(url)"
      ],
      "execution_count": null,
      "outputs": []
    },
    {
      "cell_type": "code",
      "metadata": {
        "id": "8cvuowEbvPqT"
      },
      "source": [
        "article = html.find('div', class_='entry-content')\n",
        "figures = article.find_all('figure')"
      ],
      "execution_count": null,
      "outputs": []
    },
    {
      "cell_type": "code",
      "metadata": {
        "colab": {
          "base_uri": "https://localhost:8080/"
        },
        "id": "ET1lkO8IvTeP",
        "outputId": "c3195162-449a-4050-ee33-4e2b27709c7b"
      },
      "source": [
        "img_links = []\n",
        "for i in figures:\n",
        "  img_links.append(getAllImgLink(i)[0])\n",
        "for i in img_links:\n",
        "  print(i)"
      ],
      "execution_count": null,
      "outputs": [
        {
          "output_type": "stream",
          "name": "stdout",
          "text": [
            "https://bergaya.id/wp-content/uploads/2020/02/Batik-Bali-Buketan-Hitam.jpg\n",
            "https://bergaya.id/wp-content/uploads/2020/02/Batik-Buketan-Kombinasi-Khas-Bali.jpg\n",
            "https://bergaya.id/wp-content/uploads/2020/02/Batik-Bali.jpg\n",
            "https://bergaya.id/wp-content/uploads/2020/02/Motif-Batik-Barong-Kembar.jpg\n",
            "https://bergaya.id/wp-content/uploads/2020/02/Motif-Bali-Ulamsari.jpg\n",
            "https://bergaya.id/wp-content/uploads/2020/02/Motif-Bali-Singa-Barong.jpg\n",
            "https://bergaya.id/wp-content/uploads/2020/02/Motif-Burung.jpg\n",
            "https://bergaya.id/wp-content/uploads/2020/02/Motif-Bali-Buketan-Modern.jpg\n",
            "https://bergaya.id/wp-content/uploads/2020/02/Motif-Abyorhokokai.jpg\n",
            "https://bergaya.id/wp-content/uploads/2020/02/Batik-Tulis-Bali.jpg\n",
            "https://bergaya.id/wp-content/uploads/2020/02/Motif-Bali-Jagatan-Pisang.jpg\n",
            "https://bergaya.id/wp-content/uploads/2020/02/Motif-Burung-Bangau.jpg\n",
            "https://bergaya.id/wp-content/uploads/2020/02/Motif-Bali-Sating.jpg\n",
            "https://bergaya.id/wp-content/uploads/2020/02/Motif-Non-Geometris.jpg\n",
            "https://bergaya.id/wp-content/uploads/2020/02/Batik-Wayang.jpg\n",
            "https://bergaya.id/wp-content/uploads/2020/02/Motif-Batik-Bali.jpg\n",
            "https://bergaya.id/wp-content/uploads/2020/02/Gambar-Batik-Bali.jpg\n",
            "https://bergaya.id/wp-content/uploads/2020/02/Batik-Bali-Lestari.jpeg\n",
            "https://bergaya.id/wp-content/uploads/2020/02/Batik-Khas-Bali.jpg\n",
            "https://bergaya.id/wp-content/uploads/2020/02/Baju-Batik-Bali.jpg\n",
            "https://bergaya.id/wp-content/uploads/2020/02/Kain-Batik-Bali.jpg\n",
            "https://bergaya.id/wp-content/uploads/2020/02/Bali-Batik.jpg\n",
            "https://bergaya.id/wp-content/uploads/2020/02/Batik-Keris-Bali.jpg\n",
            "https://bergaya.id/wp-content/uploads/2020/02/Dress-Batik-Bali-Pastel.jpeg\n",
            "https://bergaya.id/wp-content/uploads/2020/02/Kemeja-Batik-Bali-Pria-.jpg\n",
            "https://bergaya.id/wp-content/uploads/2020/02/Model-Baju-Batik-Bali.jpg\n",
            "https://bergaya.id/wp-content/uploads/2020/02/Rok-Batik-Laut-Bali.jpg\n",
            "https://bergaya.id/wp-content/uploads/2020/02/Kebaya-Bali-Merah-Senada.jpg\n",
            "https://bergaya.id/wp-content/uploads/2020/02/Batik-Prada-Bali.jpg\n",
            "https://bergaya.id/wp-content/uploads/2020/02/Kebaya-Bali-dengan-Ikat-Khas.jpg\n",
            "https://bergaya.id/wp-content/uploads/2020/02/Kemeja-Batik-Bali-Lengan-Panjang.jpg\n",
            "https://bergaya.id/wp-content/uploads/2020/02/Kemeja-Batik-Kombinasi-Lengan-Panjang.jpg\n",
            "https://bergaya.id/wp-content/uploads/2020/02/Kaos-Batik-Bali-Diagonal.jpg\n",
            "https://bergaya.id/wp-content/uploads/2020/02/Harga-Batik-Bali.jpg\n",
            "https://bergaya.id/wp-content/uploads/2020/02/Kaos-Batik-Lengan-Pendek-Motif-Anggrek.jpg\n",
            "https://bergaya.id/wp-content/uploads/2020/02/Contoh-Motif-Batik-Bali.jpg\n",
            "https://bergaya.id/wp-content/uploads/2020/02/Setelan-Batik-Tulis-Bali.jpg\n",
            "https://bergaya.id/wp-content/uploads/2020/02/Model-Batik-Bali.jpg\n",
            "https://bergaya.id/wp-content/uploads/2020/02/Setelan-Batik-Bali-Senada.jpg\n",
            "https://bergaya.id/wp-content/uploads/2020/02/Motif-Batik-Khas-Bali.jpg\n",
            "https://bergaya.id/wp-content/uploads/2020/02/Setelan-Batik-Bali-Cokelat.jpg\n",
            "https://bergaya.id/wp-content/uploads/2020/02/Contoh-Batik-Bali.jpg\n",
            "https://bergaya.id/wp-content/uploads/2020/02/Batik-Bali-Couple-Motif-Bunga.jpg\n",
            "https://bergaya.id/wp-content/uploads/2020/02/Harga-Kain-Batik-Bali.jpg\n",
            "https://bergaya.id/wp-content/uploads/2020/02/Gambar-Motif-Batik-Bali.jpeg\n",
            "https://bergaya.id/wp-content/uploads/2020/02/Motif-Batik-Dari-Bali.jpg\n",
            "https://bergaya.id/wp-content/uploads/2020/02/Batik-Bali-Motif-Harimau-Latar-Gelap.jpg\n",
            "https://bergaya.id/wp-content/uploads/2020/02/Motif-Batik-Keris-Bali.jpg\n",
            "https://bergaya.id/wp-content/uploads/2020/02/Motif-Batik-Burung-Bali.jpg\n"
          ]
        }
      ]
    },
    {
      "cell_type": "code",
      "metadata": {
        "id": "397PkGt6vVGs"
      },
      "source": [
        "motives_count = saveImgs(img_links[:15], motives_count, 'motives')\n",
        "batik_count = saveImgs(img_links[16:], batik_count, 'batik_clothes')"
      ],
      "execution_count": null,
      "outputs": []
    },
    {
      "cell_type": "code",
      "metadata": {
        "id": "7hAU3HypvYaE"
      },
      "source": [
        "url = 'https://bergaya.id/batik-bunga/'\n",
        "html = getScrapHtml(url)"
      ],
      "execution_count": null,
      "outputs": []
    },
    {
      "cell_type": "code",
      "metadata": {
        "id": "dKwumhcZvj23"
      },
      "source": [
        "article = html.find('div', class_='entry-content')\n",
        "figures = article.find_all('figure')"
      ],
      "execution_count": null,
      "outputs": []
    },
    {
      "cell_type": "code",
      "metadata": {
        "colab": {
          "base_uri": "https://localhost:8080/"
        },
        "id": "EbuhlPDqvn_h",
        "outputId": "1142f2aa-5965-4272-a069-891198136c4a"
      },
      "source": [
        "img_links = []\n",
        "for i in figures:\n",
        "  img_links.append(getAllImgLink(i)[0])\n",
        "for i in img_links:\n",
        "  print(i)"
      ],
      "execution_count": null,
      "outputs": [
        {
          "output_type": "stream",
          "name": "stdout",
          "text": [
            "https://bergaya.id/wp-content/uploads/2020/03/Batik-Bunga.jpg\n",
            "https://bergaya.id/wp-content/uploads/2020/03/Motif-Bunga-Wijaya-Kusuma.jpg\n",
            "https://bergaya.id/wp-content/uploads/2020/03/Motif-Batik-Bunga-Melati.jpg\n",
            "https://bergaya.id/wp-content/uploads/2020/03/Motif-Bunga-Batik-Bakaran-Juwana.jpg\n",
            "https://bergaya.id/wp-content/uploads/2020/03/Motif-Batik-Kembang-Setaman.jpg\n",
            "https://bergaya.id/wp-content/uploads/2020/03/Motif-Batik-Bunga-Mawar.jpg\n",
            "https://bergaya.id/wp-content/uploads/2020/03/Batik-Motif-Bunga-Krisan.jpg\n",
            "https://bergaya.id/wp-content/uploads/2020/03/Motif-Batik-Bunga-Sakura.jpg\n",
            "https://bergaya.id/wp-content/uploads/2020/03/Motif-Batik-Bunga-Sedap-Malam.jpg\n",
            "https://bergaya.id/wp-content/uploads/2020/03/Motif-Bunga-dan-Burung-Merak.jpg\n",
            "https://bergaya.id/wp-content/uploads/2020/03/Motif-Bledakan-Kerton-Beri-Seling-Lung-Lungan.jpg\n",
            "https://bergaya.id/wp-content/uploads/2020/03/Motif-Bunga-Lasem.jpg\n",
            "https://bergaya.id/wp-content/uploads/2020/03/Motif-Bunga-Teratai.png\n",
            "https://bergaya.id/wp-content/uploads/2020/03/Motif-Bunga-Kecombrang.jpg\n",
            "https://bergaya.id/wp-content/uploads/2020/03/Motif-Bunga-dan-Kipas.jpg\n",
            "https://bergaya.id/wp-content/uploads/2020/03/Tunik-Batik-Bali-Motif-Bunga.jpeg\n",
            "https://bergaya.id/wp-content/uploads/2020/03/Motif-Batik-Bunga.jpg\n",
            "https://bergaya.id/wp-content/uploads/2020/03/Gambar-Batik-Bunga.jpg\n",
            "https://bergaya.id/wp-content/uploads/2020/03/Batik-Bali-Atasan-Motif-Bunga-Simetris.jpg\n",
            "https://bergaya.id/wp-content/uploads/2020/03/Atasan-Batik-Motif-Bunga-Warna-Merah.jpg\n",
            "https://bergaya.id/wp-content/uploads/2020/03/Atasan-Batik-Motif-Bunga-Lengan-Kerut.jpg\n",
            "https://bergaya.id/wp-content/uploads/2020/03/Batik-Bali-Motif-Kembang-Soka.jpg\n",
            "https://bergaya.id/wp-content/uploads/2020/03/Kardigan-Batik-Bali-Motif-Bunga.jpg\n",
            "https://bergaya.id/wp-content/uploads/2020/03/Kemeja-Batik-Biru-Putih-Motif-Bunga.jpg\n",
            "https://bergaya.id/wp-content/uploads/2020/03/Jas-Batik-Bali-Motif-Bunga.jpg\n",
            "https://bergaya.id/wp-content/uploads/2020/03/Gaun-Batik-Resleting-Depan.jpg\n",
            "https://bergaya.id/wp-content/uploads/2020/03/Mini-Dress-Motif-Perca-Batik-Bali.jpg\n",
            "https://bergaya.id/wp-content/uploads/2020/03/Tunik-Batik-Bunga-Merah-Berkerah.jpg\n",
            "https://bergaya.id/wp-content/uploads/2020/03/Baju-Motif-Bunga-Imlek-Batik.jpg\n",
            "https://bergaya.id/wp-content/uploads/2020/03/Tunik-Daster-Batik-Bali.jpg\n",
            "https://bergaya.id/wp-content/uploads/2020/03/Blouse-Modern-Batik-Bali.jpg\n",
            "https://bergaya.id/wp-content/uploads/2020/03/Setelan-Batik-Modern-Motif-Bunga-1.jpg\n",
            "https://bergaya.id/wp-content/uploads/2020/03/Hem-Batik-Motif-Bunga-Tanpa-Lengan.jpg\n",
            "https://bergaya.id/wp-content/uploads/2020/03/Kemeja-Modern-Batik-Motif-Bunga.jpg\n",
            "https://bergaya.id/wp-content/uploads/2020/03/Setelan-Rok-Pendek-Batik-Motif-Bunga.jpg\n",
            "https://bergaya.id/wp-content/uploads/2020/03/Gamis-Tunik-Batik-Motif-Bunga.jpg\n",
            "https://bergaya.id/wp-content/uploads/2020/03/Tunik-Batik-Motif-Bunga-Lengan-Pita.jpg\n",
            "https://bergaya.id/wp-content/uploads/2020/03/Setelan-Wanita-Pendek-Batik-Motif-Kawung.jpg\n",
            "https://bergaya.id/wp-content/uploads/2020/03/Blus-Batik-Panjang-Motif-Bunga-Diagonal.jpg\n",
            "https://bergaya.id/wp-content/uploads/2020/03/Blus-Batik-Panjang-Motif-Sisik.jpg\n",
            "https://bergaya.id/wp-content/uploads/2020/03/Blus-Batik-Tanpa-Lengan-Warna-Krem.jpg\n",
            "https://bergaya.id/wp-content/uploads/2020/03/Blazer-Batik-Bali-Motif-Bunga.jpg\n",
            "https://bergaya.id/wp-content/uploads/2020/03/Blouse-Batik-Wanita-Kerah-Chinese.jpg\n",
            "https://bergaya.id/wp-content/uploads/2020/03/Atasan-Batik-dengan-Tambahan-Kancing.jpg\n",
            "https://bergaya.id/wp-content/uploads/2020/03/Kemeja-Batik-Kerja-Motif-Bunga-Tanpa-Kerah.jpg\n",
            "https://bergaya.id/wp-content/uploads/2020/03/Daster-Batik-Motif-Batik-Bali-Simple.jpg\n",
            "https://bergaya.id/wp-content/uploads/2020/03/Kemeja-Batik-Tulis-Motif-Bunga-Untuk-Kerja.jpg\n",
            "https://bergaya.id/wp-content/uploads/2020/03/Model-Gamis-Batik-Bali-Sablon.jpg\n",
            "https://bergaya.id/wp-content/uploads/2020/03/Blouse-Batik-Bali-Klasik.jpeg\n",
            "https://bergaya.id/wp-content/uploads/2020/03/Setelan-Kulot-Batik-Bali.jpg\n"
          ]
        }
      ]
    },
    {
      "cell_type": "code",
      "metadata": {
        "id": "82O56GvxvpU4"
      },
      "source": [
        "motives_count = saveImgs(img_links[:15], motives_count, 'motives')\n",
        "batik_count = saveImgs(img_links[16:], batik_count, 'batik_clothes')"
      ],
      "execution_count": null,
      "outputs": []
    },
    {
      "cell_type": "code",
      "metadata": {
        "colab": {
          "base_uri": "https://localhost:8080/",
          "height": 35
        },
        "id": "JV_nYr4qvpym",
        "outputId": "18751db8-9c45-4682-e598-3004edd060d2"
      },
      "source": [
        "shutil.make_archive('motives', 'zip', 'motives')\n",
        "shutil.make_archive('batik_clothes', 'zip', 'batik_clothes')"
      ],
      "execution_count": null,
      "outputs": [
        {
          "output_type": "execute_result",
          "data": {
            "application/vnd.google.colaboratory.intrinsic+json": {
              "type": "string"
            },
            "text/plain": [
              "'/content/batik_clothes.zip'"
            ]
          },
          "metadata": {},
          "execution_count": 187
        }
      ]
    },
    {
      "cell_type": "code",
      "metadata": {
        "colab": {
          "base_uri": "https://localhost:8080/"
        },
        "id": "C0hh5OT3yrAd",
        "outputId": "c2c98b87-d2aa-4270-b52a-27dda4eda1f5"
      },
      "source": [
        "len(os.listdir('motives')), len(os.listdir('batik_clothes'))"
      ],
      "execution_count": null,
      "outputs": [
        {
          "output_type": "execute_result",
          "data": {
            "text/plain": [
              "(91, 154)"
            ]
          },
          "metadata": {},
          "execution_count": 192
        }
      ]
    },
    {
      "cell_type": "code",
      "metadata": {
        "colab": {
          "base_uri": "https://localhost:8080/",
          "height": 35
        },
        "id": "kZg-5dvWxx9D",
        "outputId": "6d6ba301-bffe-48ac-c789-aa56214d6b9a"
      },
      "source": [
        "shutil.move('batik_clothes.zip', '/content/gdrive/MyDrive/ai_project')\n",
        "shutil.move('motives.zip', '/content/gdrive/MyDrive/ai_project')"
      ],
      "execution_count": null,
      "outputs": [
        {
          "output_type": "execute_result",
          "data": {
            "application/vnd.google.colaboratory.intrinsic+json": {
              "type": "string"
            },
            "text/plain": [
              "'/content/gdrive/MyDrive/ai_project/motives.zip'"
            ]
          },
          "metadata": {},
          "execution_count": 190
        }
      ]
    }
  ]
}