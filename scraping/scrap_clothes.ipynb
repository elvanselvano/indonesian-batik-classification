{
  "nbformat": 4,
  "nbformat_minor": 0,
  "metadata": {
    "colab": {
      "name": "scrap clothes.ipynb",
      "provenance": [],
      "collapsed_sections": []
    },
    "kernelspec": {
      "name": "python3",
      "display_name": "Python 3"
    },
    "language_info": {
      "name": "python"
    }
  },
  "cells": [
    {
      "cell_type": "code",
      "metadata": {
        "id": "Un3LIX26bgUQ"
      },
      "source": [
        "import pandas as pd\n",
        "import numpy as np\n",
        "from PIL import Image\n",
        "import matplotlib.pyplot as plt\n",
        "import shutil, os, zipfile\n",
        "from google.colab import drive"
      ],
      "execution_count": null,
      "outputs": []
    },
    {
      "cell_type": "code",
      "metadata": {
        "colab": {
          "base_uri": "https://localhost:8080/"
        },
        "id": "MGoSy1gbblDB",
        "outputId": "4a1cc1ed-0c2f-499e-f2e9-57524a354539"
      },
      "source": [
        "! chmod 600 kaggle.json && (ls ~/.kaggle 2>/dev/null || mkdir ~/.kaggle) && mv kaggle.json ~/.kaggle/\n",
        "! kaggle datasets download -d agrigorev/clothing-dataset-full\n",
        "! ls"
      ],
      "execution_count": null,
      "outputs": [
        {
          "output_type": "stream",
          "name": "stdout",
          "text": [
            "chmod: cannot access 'kaggle.json': No such file or directory\n",
            "Downloading clothing-dataset-full.zip to /content\n",
            "100% 6.50G/6.50G [02:24<00:00, 26.5MB/s]\n",
            "\n",
            "clothing-dataset-full.zip  sample_data\n"
          ]
        }
      ]
    },
    {
      "cell_type": "code",
      "metadata": {
        "id": "86TPqnMVbqP7"
      },
      "source": [
        "! unzip -o -q /content/clothing-dataset-full.zip"
      ],
      "execution_count": null,
      "outputs": []
    },
    {
      "cell_type": "code",
      "metadata": {
        "id": "E1DoU9gUkda9"
      },
      "source": [
        "shutil.rmtree('./clothes')"
      ],
      "execution_count": null,
      "outputs": []
    },
    {
      "cell_type": "code",
      "metadata": {
        "id": "B3YSNn3Sch42"
      },
      "source": [
        "os.makedirs('./clothes')"
      ],
      "execution_count": null,
      "outputs": []
    },
    {
      "cell_type": "code",
      "metadata": {
        "id": "syg7iGPcc8mT"
      },
      "source": [
        "TARGET = '/content/clothes/'\n",
        "SOURCE = '/content/images_compressed/'"
      ],
      "execution_count": null,
      "outputs": []
    },
    {
      "cell_type": "code",
      "metadata": {
        "colab": {
          "base_uri": "https://localhost:8080/",
          "height": 414
        },
        "id": "nZNm8chadpFC",
        "outputId": "7a5a26e9-a867-40fc-d474-bca8911d5539"
      },
      "source": [
        "df = pd.read_csv('/content/images.csv')\n",
        "df"
      ],
      "execution_count": null,
      "outputs": [
        {
          "output_type": "execute_result",
          "data": {
            "text/html": [
              "<div>\n",
              "<style scoped>\n",
              "    .dataframe tbody tr th:only-of-type {\n",
              "        vertical-align: middle;\n",
              "    }\n",
              "\n",
              "    .dataframe tbody tr th {\n",
              "        vertical-align: top;\n",
              "    }\n",
              "\n",
              "    .dataframe thead th {\n",
              "        text-align: right;\n",
              "    }\n",
              "</style>\n",
              "<table border=\"1\" class=\"dataframe\">\n",
              "  <thead>\n",
              "    <tr style=\"text-align: right;\">\n",
              "      <th></th>\n",
              "      <th>image</th>\n",
              "      <th>sender_id</th>\n",
              "      <th>label</th>\n",
              "      <th>kids</th>\n",
              "    </tr>\n",
              "  </thead>\n",
              "  <tbody>\n",
              "    <tr>\n",
              "      <th>0</th>\n",
              "      <td>4285fab0-751a-4b74-8e9b-43af05deee22</td>\n",
              "      <td>124</td>\n",
              "      <td>Not sure</td>\n",
              "      <td>False</td>\n",
              "    </tr>\n",
              "    <tr>\n",
              "      <th>1</th>\n",
              "      <td>ea7b6656-3f84-4eb3-9099-23e623fc1018</td>\n",
              "      <td>148</td>\n",
              "      <td>T-Shirt</td>\n",
              "      <td>False</td>\n",
              "    </tr>\n",
              "    <tr>\n",
              "      <th>2</th>\n",
              "      <td>00627a3f-0477-401c-95eb-92642cbe078d</td>\n",
              "      <td>94</td>\n",
              "      <td>Not sure</td>\n",
              "      <td>False</td>\n",
              "    </tr>\n",
              "    <tr>\n",
              "      <th>3</th>\n",
              "      <td>ea2ffd4d-9b25-4ca8-9dc2-bd27f1cc59fa</td>\n",
              "      <td>43</td>\n",
              "      <td>T-Shirt</td>\n",
              "      <td>False</td>\n",
              "    </tr>\n",
              "    <tr>\n",
              "      <th>4</th>\n",
              "      <td>3b86d877-2b9e-4c8b-a6a2-1d87513309d0</td>\n",
              "      <td>189</td>\n",
              "      <td>Shoes</td>\n",
              "      <td>False</td>\n",
              "    </tr>\n",
              "    <tr>\n",
              "      <th>...</th>\n",
              "      <td>...</td>\n",
              "      <td>...</td>\n",
              "      <td>...</td>\n",
              "      <td>...</td>\n",
              "    </tr>\n",
              "    <tr>\n",
              "      <th>5398</th>\n",
              "      <td>dfd4079d-967b-4b3e-8574-fbac11b58103</td>\n",
              "      <td>204</td>\n",
              "      <td>Shorts</td>\n",
              "      <td>False</td>\n",
              "    </tr>\n",
              "    <tr>\n",
              "      <th>5399</th>\n",
              "      <td>befa14be-8140-4faf-8061-1039947e329d</td>\n",
              "      <td>204</td>\n",
              "      <td>Body</td>\n",
              "      <td>True</td>\n",
              "    </tr>\n",
              "    <tr>\n",
              "      <th>5400</th>\n",
              "      <td>5379356a-40ee-4890-b416-2336a7d84061</td>\n",
              "      <td>310</td>\n",
              "      <td>Shorts</td>\n",
              "      <td>False</td>\n",
              "    </tr>\n",
              "    <tr>\n",
              "      <th>5401</th>\n",
              "      <td>65507fb8-3456-4c15-b53e-d1b03bf71a59</td>\n",
              "      <td>204</td>\n",
              "      <td>Shoes</td>\n",
              "      <td>False</td>\n",
              "    </tr>\n",
              "    <tr>\n",
              "      <th>5402</th>\n",
              "      <td>32b99302-cec7-4dec-adfa-3d4029674209</td>\n",
              "      <td>204</td>\n",
              "      <td>Skirt</td>\n",
              "      <td>False</td>\n",
              "    </tr>\n",
              "  </tbody>\n",
              "</table>\n",
              "<p>5403 rows × 4 columns</p>\n",
              "</div>"
            ],
            "text/plain": [
              "                                     image  sender_id     label   kids\n",
              "0     4285fab0-751a-4b74-8e9b-43af05deee22        124  Not sure  False\n",
              "1     ea7b6656-3f84-4eb3-9099-23e623fc1018        148   T-Shirt  False\n",
              "2     00627a3f-0477-401c-95eb-92642cbe078d         94  Not sure  False\n",
              "3     ea2ffd4d-9b25-4ca8-9dc2-bd27f1cc59fa         43   T-Shirt  False\n",
              "4     3b86d877-2b9e-4c8b-a6a2-1d87513309d0        189     Shoes  False\n",
              "...                                    ...        ...       ...    ...\n",
              "5398  dfd4079d-967b-4b3e-8574-fbac11b58103        204    Shorts  False\n",
              "5399  befa14be-8140-4faf-8061-1039947e329d        204      Body   True\n",
              "5400  5379356a-40ee-4890-b416-2336a7d84061        310    Shorts  False\n",
              "5401  65507fb8-3456-4c15-b53e-d1b03bf71a59        204     Shoes  False\n",
              "5402  32b99302-cec7-4dec-adfa-3d4029674209        204     Skirt  False\n",
              "\n",
              "[5403 rows x 4 columns]"
            ]
          },
          "metadata": {},
          "execution_count": 59
        }
      ]
    },
    {
      "cell_type": "code",
      "metadata": {
        "id": "MTMw_SFgdt5J"
      },
      "source": [
        "used_labels = ['T-Shirt', 'Shirt', 'Blazer', 'Blouse', 'Polo', \n",
        "               'Longsleeve', 'Dress', 'Skirt', 'Pants']\n",
        "mask = df['label'].isin(used_labels)\n",
        "usable_df = df[mask]"
      ],
      "execution_count": null,
      "outputs": []
    },
    {
      "cell_type": "code",
      "metadata": {
        "colab": {
          "base_uri": "https://localhost:8080/"
        },
        "id": "hQ5F66SIdxo9",
        "outputId": "35d9a393-43c5-4cff-986c-990d9d5f8848"
      },
      "source": [
        "paths = usable_df.sample(frac=1)['image'].to_list()\n",
        "len(paths)"
      ],
      "execution_count": null,
      "outputs": [
        {
          "output_type": "execute_result",
          "data": {
            "text/plain": [
              "3544"
            ]
          },
          "metadata": {},
          "execution_count": 61
        }
      ]
    },
    {
      "cell_type": "code",
      "metadata": {
        "id": "WOnoJ3-FdzfU"
      },
      "source": [
        "count = 0\n",
        "for i in paths:\n",
        "  source = SOURCE + i + '.jpg'\n",
        "  target = TARGET + i + '.jpg'\n",
        "  try:\n",
        "    shutil.copyfile(source, target)\n",
        "  except Exception as e:\n",
        "    count += 1\n",
        "    print(e, count)\n",
        "    if count == 50:\n",
        "      break"
      ],
      "execution_count": null,
      "outputs": []
    },
    {
      "cell_type": "code",
      "metadata": {
        "colab": {
          "base_uri": "https://localhost:8080/"
        },
        "id": "losXtgR6eH49",
        "outputId": "777f3ebc-a5ea-4637-b9f5-e82ee2323336"
      },
      "source": [
        "drive.mount('./drive')"
      ],
      "execution_count": null,
      "outputs": [
        {
          "output_type": "stream",
          "name": "stdout",
          "text": [
            "Mounted at ./drive\n"
          ]
        }
      ]
    },
    {
      "cell_type": "code",
      "metadata": {
        "colab": {
          "base_uri": "https://localhost:8080/",
          "height": 35
        },
        "id": "a2rVgdiAhvnk",
        "outputId": "a2d6f375-f2cc-4da1-fb47-c1fd8d5e488d"
      },
      "source": [
        "shutil.make_archive('clothes', 'zip', '/content/clothes')"
      ],
      "execution_count": null,
      "outputs": [
        {
          "output_type": "execute_result",
          "data": {
            "application/vnd.google.colaboratory.intrinsic+json": {
              "type": "string"
            },
            "text/plain": [
              "'/content/clothes.zip'"
            ]
          },
          "metadata": {},
          "execution_count": 63
        }
      ]
    },
    {
      "cell_type": "code",
      "metadata": {
        "colab": {
          "base_uri": "https://localhost:8080/"
        },
        "id": "NH1mYWIfiEiD",
        "outputId": "0e19170f-8eb0-4c0c-fad2-187d374e1e9b"
      },
      "source": [
        "os.path.getsize('/content/clothes.zip') / 1000000"
      ],
      "execution_count": null,
      "outputs": [
        {
          "output_type": "execute_result",
          "data": {
            "text/plain": [
              "98.627467"
            ]
          },
          "metadata": {},
          "execution_count": 65
        }
      ]
    },
    {
      "cell_type": "code",
      "metadata": {
        "colab": {
          "base_uri": "https://localhost:8080/",
          "height": 35
        },
        "id": "jxUqwFn_hbNv",
        "outputId": "9c74e0f3-b10a-4566-fac2-011acc3ae4ee"
      },
      "source": [
        "try:\n",
        "  os.remove('/content/drive/MyDrive/ai_project/clothes.zip')\n",
        "except:\n",
        "  pass\n",
        "shutil.move('/content/clothes.zip','/content/drive/MyDrive/ai_project/clothes.zip')"
      ],
      "execution_count": null,
      "outputs": [
        {
          "output_type": "execute_result",
          "data": {
            "application/vnd.google.colaboratory.intrinsic+json": {
              "type": "string"
            },
            "text/plain": [
              "'/content/drive/MyDrive/ai_project/clothes.zip'"
            ]
          },
          "metadata": {},
          "execution_count": 69
        }
      ]
    },
    {
      "cell_type": "code",
      "metadata": {
        "id": "MSDgcdpYiTrM"
      },
      "source": [
        ""
      ],
      "execution_count": null,
      "outputs": []
    }
  ]
}